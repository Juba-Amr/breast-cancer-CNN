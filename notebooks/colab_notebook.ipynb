{
 "cells": [
  {
   "cell_type": "markdown",
   "id": "fd5175e9-ab8a-49cd-9fd2-2c767f24643a",
   "metadata": {
    "colab_type": "text",
    "id": "view-in-github"
   },
   "source": [
    "<a href=\"https://colab.research.google.com/github/Juba-Amr/breast-cancer-CNN/blob/main/notebooks/colab_notebook.ipynb\" target=\"_parent\"><img src=\"https://colab.research.google.com/assets/colab-badge.svg\" alt=\"Open In Colab\"/></a>"
   ]
  },
  {
   "cell_type": "code",
   "execution_count": 1,
   "id": "_fb0iuyz7Sqq",
   "metadata": {
    "execution": {
     "iopub.execute_input": "2025-07-13T01:09:24.122733Z",
     "iopub.status.busy": "2025-07-13T01:09:24.122452Z",
     "iopub.status.idle": "2025-07-13T01:09:24.127342Z",
     "shell.execute_reply": "2025-07-13T01:09:24.126521Z",
     "shell.execute_reply.started": "2025-07-13T01:09:24.122714Z"
    },
    "id": "_fb0iuyz7Sqq",
    "trusted": true
   },
   "outputs": [],
   "source": [
    "#imports\n",
    "import os\n",
    "import numpy as np\n",
    "import pandas as pd\n",
    "import cv2\n",
    "import matplotlib.pyplot as plt\n",
    "import tensorflow as tf\n",
    "from tensorflow.keras import layers\n",
    "from tensorflow.keras.preprocessing import image_dataset_from_directory\n",
    "import sklearn\n",
    "from sklearn.metrics import confusion_matrix\n",
    "from sklearn.metrics import roc_curve\n",
    "from sklearn.metrics import f1_score\n",
    "from sklearn.metrics import precision_recall_curve"
   ]
  },
  {
   "cell_type": "code",
   "execution_count": 10,
   "id": "d54a1614-a2ef-489f-b875-23bbd29b85ce",
   "metadata": {
    "execution": {
     "iopub.execute_input": "2025-07-12T22:07:21.133026Z",
     "iopub.status.busy": "2025-07-12T22:07:21.132479Z",
     "iopub.status.idle": "2025-07-12T22:07:21.230902Z",
     "shell.execute_reply": "2025-07-12T22:07:21.230023Z",
     "shell.execute_reply.started": "2025-07-12T22:07:21.133004Z"
    },
    "trusted": true
   },
   "outputs": [
    {
     "name": "stdout",
     "output_type": "stream",
     "text": [
      "[PhysicalDevice(name='/physical_device:GPU:0', device_type='GPU')]\n"
     ]
    }
   ],
   "source": [
    "print(tf.config.list_physical_devices('GPU'))"
   ]
  },
  {
   "cell_type": "code",
   "execution_count": null,
   "id": "AEWhsQTN67Un",
   "metadata": {
    "execution": {
     "iopub.execute_input": "2025-07-12T22:07:23.739688Z",
     "iopub.status.busy": "2025-07-12T22:07:23.739404Z",
     "iopub.status.idle": "2025-07-12T22:07:23.743801Z",
     "shell.execute_reply": "2025-07-12T22:07:23.742992Z",
     "shell.execute_reply.started": "2025-07-12T22:07:23.739666Z"
    },
    "id": "AEWhsQTN67Un",
    "trusted": true
   },
   "outputs": [],
   "source": [
    "#paths\n",
    "ds_path = '/kaggle/input/idc-histology-cleaned-and-splitted'\n",
    "\n",
    "train_path= '/kaggle/input/idc-histology-cleaned-and-splitted/train'\n",
    "val_path= '/kaggle/input/idc-histology-cleaned-and-splitted/validation'\n",
    "test_path= '/kaggle/input/idc-histology-cleaned-and-splitted/test'"
   ]
  },
  {
   "cell_type": "markdown",
   "id": "a48416a3",
   "metadata": {},
   "source": [
    "Same preprocessing as before"
   ]
  },
  {
   "cell_type": "code",
   "execution_count": null,
   "id": "dZ3rBdxi7N4q",
   "metadata": {
    "colab": {
     "base_uri": "https://localhost:8080/"
    },
    "execution": {
     "iopub.execute_input": "2025-07-12T22:07:27.368086Z",
     "iopub.status.busy": "2025-07-12T22:07:27.367809Z",
     "iopub.status.idle": "2025-07-12T22:12:00.487873Z",
     "shell.execute_reply": "2025-07-12T22:12:00.487035Z",
     "shell.execute_reply.started": "2025-07-12T22:07:27.368063Z"
    },
    "id": "dZ3rBdxi7N4q",
    "outputId": "bd1cb78c-923c-4ef2-f7a2-a4d673d499c6",
    "trusted": true
   },
   "outputs": [
    {
     "name": "stdout",
     "output_type": "stream",
     "text": [
      "Found 193299 files belonging to 2 classes.\n"
     ]
    },
    {
     "name": "stderr",
     "output_type": "stream",
     "text": [
      "I0000 00:00:1752358281.510962     195 gpu_device.cc:2022] Created device /job:localhost/replica:0/task:0/device:GPU:0 with 15513 MB memory:  -> device: 0, name: Tesla P100-PCIE-16GB, pci bus id: 0000:00:04.0, compute capability: 6.0\n"
     ]
    },
    {
     "name": "stdout",
     "output_type": "stream",
     "text": [
      "Found 38496 files belonging to 2 classes.\n"
     ]
    }
   ],
   "source": [
    "#for reproducability\n",
    "def set_seed(seed=42):\n",
    "    np.random.seed(seed)\n",
    "    tf.random.set_seed(seed)\n",
    "    os.environ['PYTHONHASHSEED'] = str(seed)\n",
    "    os.environ['TF_DETERMINISTIC_OPS'] = '1'\n",
    "set_seed()\n",
    "\n",
    "X_train = image_dataset_from_directory(\n",
    "    train_path,\n",
    "    labels='inferred',\n",
    "    label_mode='binary',\n",
    "    color_mode='rgb',\n",
    "    batch_size=None,\n",
    "    image_size=(50,50),\n",
    "    shuffle=True,\n",
    "    interpolation='nearest'\n",
    ")\n",
    "\n",
    "X_val = image_dataset_from_directory(\n",
    "    val_path,\n",
    "    labels='inferred',\n",
    "    label_mode='binary',\n",
    "    color_mode='rgb',\n",
    "    batch_size=None,\n",
    "    image_size=(50,50),\n",
    "    shuffle=True,\n",
    "    interpolation='nearest'\n",
    ")"
   ]
  },
  {
   "cell_type": "code",
   "execution_count": 5,
   "id": "844eaa0c",
   "metadata": {},
   "outputs": [],
   "source": [
    "#preprocessing\n",
    "AUTOTUNE = tf.data.experimental.AUTOTUNE\n",
    "def preprocess(image, label):\n",
    "    image = tf.image.convert_image_dtype(image, tf.float32) \n",
    "    return image, label\n",
    "\n",
    "data_augmentation = tf.keras.Sequential([\n",
    "    layers.RandomFlip(mode='horizontal_and_vertical'),\n",
    "    layers.RandomRotation(factor=(-0.3, 0.3)),\n",
    "]) \n",
    "\n",
    "def augmentation(image, label):\n",
    "    return (data_augmentation(image), label)"
   ]
  },
  {
   "cell_type": "code",
   "execution_count": null,
   "id": "V32B31Ay7d3d",
   "metadata": {
    "colab": {
     "base_uri": "https://localhost:8080/"
    },
    "execution": {
     "iopub.execute_input": "2025-07-12T22:12:08.596647Z",
     "iopub.status.busy": "2025-07-12T22:12:08.596352Z",
     "iopub.status.idle": "2025-07-12T22:12:08.808087Z",
     "shell.execute_reply": "2025-07-12T22:12:08.807482Z",
     "shell.execute_reply.started": "2025-07-12T22:12:08.596625Z"
    },
    "id": "V32B31Ay7d3d",
    "outputId": "144d972d-76a5-4df4-86c1-06d93ec2cb10",
    "trusted": true
   },
   "outputs": [
    {
     "name": "stdout",
     "output_type": "stream",
     "text": [
      "193299\n",
      "38496\n",
      "12082\n",
      "2406\n"
     ]
    }
   ],
   "source": [
    "print(tf.data.experimental.cardinality(X_train).numpy())\n",
    "print(tf.data.experimental.cardinality(X_val).numpy())\n",
    "\n",
    "X_train = (\n",
    "    X_train\n",
    "    .map(preprocess, num_parallel_calls=AUTOTUNE, deterministic=True)\n",
    "    .map(augmentation , num_parallel_calls=AUTOTUNE, deterministic=True)\n",
    "    .shuffle(buffer_size=1000)\n",
    "    .batch(16)#here we're using some smaller batches \n",
    "    .cache()\n",
    "    .prefetch(buffer_size=AUTOTUNE)\n",
    ")\n",
    "X_val = (\n",
    "    X_val\n",
    "    .map(preprocess, num_parallel_calls=AUTOTUNE, deterministic=True)\n",
    "    .batch(16)\n",
    "    .cache()\n",
    "    .prefetch(buffer_size=AUTOTUNE)\n",
    ")\n",
    "\n",
    "print(tf.data.experimental.cardinality(X_train).numpy())\n",
    "print(tf.data.experimental.cardinality(X_val).numpy())\n"
   ]
  },
  {
   "cell_type": "code",
   "execution_count": null,
   "id": "wLPn37fX8G8R",
   "metadata": {
    "colab": {
     "base_uri": "https://localhost:8080/"
    },
    "execution": {
     "iopub.execute_input": "2025-07-12T22:12:14.251138Z",
     "iopub.status.busy": "2025-07-12T22:12:14.250572Z",
     "iopub.status.idle": "2025-07-12T22:12:14.279314Z",
     "shell.execute_reply": "2025-07-12T22:12:14.278486Z",
     "shell.execute_reply.started": "2025-07-12T22:12:14.251112Z"
    },
    "id": "wLPn37fX8G8R",
    "outputId": "85651fac-cbd3-4574-fa0d-8cda7ba14bc7",
    "trusted": true
   },
   "outputs": [
    {
     "name": "stderr",
     "output_type": "stream",
     "text": [
      "/usr/local/lib/python3.11/dist-packages/keras/src/layers/core/dense.py:87: UserWarning: Do not pass an `input_shape`/`input_dim` argument to a layer. When using Sequential models, prefer using an `Input(shape)` object as the first layer in the model instead.\n",
      "  super().__init__(activity_regularizer=activity_regularizer, **kwargs)\n"
     ]
    }
   ],
   "source": [
    "feature_extraction = [\n",
    "        layers.Conv2D(filters=32, kernel_size=(3,3), strides=1, padding='same', use_bias=False), \n",
    "        layers.BatchNormalization(),\n",
    "        layers.Activation('relu'),\n",
    "        layers.MaxPool2D(pool_size=(2,2), strides=None, padding='valid'), \n",
    "\n",
    "        layers.Conv2D(filters=64, kernel_size=(3,3), use_bias=False), \n",
    "        layers.BatchNormalization(),\n",
    "        layers.Activation('relu'),\n",
    "        layers.MaxPool2D(pool_size=(2,2), strides=None, padding='valid'), \n",
    "\n",
    "        layers.Conv2D(filters=128, kernel_size=(3,3), use_bias=False), \n",
    "        layers.BatchNormalization(),\n",
    "        layers.Activation('relu'),\n",
    "        layers.MaxPool2D(pool_size=(2,2), strides=None, padding='valid'), \n",
    "\n",
    "        layers.GlobalAveragePooling2D()\n",
    "    ]\n",
    "\n",
    "model_body = [\n",
    "        layers.Dense(units=64, input_shape=[4608], kernel_regularizer='l2'),\n",
    "        layers.BatchNormalization(),\n",
    "        layers.Activation('relu'),\n",
    "        layers.Dropout(0.5),\n",
    "\n",
    "        layers.Dense(units=64, kernel_regularizer='l2'),\n",
    "        layers.BatchNormalization(),\n",
    "        layers.Activation('relu'),\n",
    "        layers.Dropout(0.5),\n",
    "\n",
    "        layers.Dense(units=64, kernel_regularizer='l2'),\n",
    "        layers.BatchNormalization(),\n",
    "        layers.Activation('relu'),\n",
    "        layers.Dropout(0.5),\n",
    "\n",
    "        layers.Dense(units=1, activation='sigmoid')\n",
    "    ]\n"
   ]
  },
  {
   "cell_type": "code",
   "execution_count": 18,
   "id": "E_afponC8Kfh",
   "metadata": {
    "execution": {
     "iopub.execute_input": "2025-07-12T22:40:50.639972Z",
     "iopub.status.busy": "2025-07-12T22:40:50.639143Z",
     "iopub.status.idle": "2025-07-12T22:40:50.662077Z",
     "shell.execute_reply": "2025-07-12T22:40:50.661340Z",
     "shell.execute_reply.started": "2025-07-12T22:40:50.639939Z"
    },
    "id": "E_afponC8Kfh",
    "trusted": true
   },
   "outputs": [],
   "source": [
    "model = tf.keras.Sequential([\n",
    "    *feature_extraction,\n",
    "    *model_body\n",
    "])\n",
    "\n",
    "model.compile(\n",
    "    optimizer='adam',\n",
    "    loss=tf.keras.losses.BinaryFocalCrossentropy(gamma=2.0, from_logits=False),\n",
    "    metrics=['binary_accuracy',\n",
    "            tf.keras.metrics.Recall(name='recall'),\n",
    "            tf.keras.metrics.Precision(name='precision'),\n",
    "            tf.keras.metrics.AUC(name='auc')\n",
    "        ]\n",
    ")\n",
    "\n",
    "\n",
    "early_stopping = tf.keras.callbacks.EarlyStopping(\n",
    "    monitor= \"val_loss\",\n",
    "    min_delta= 0.001,\n",
    "    patience= 5,\n",
    "    mode='min',\n",
    "    restore_best_weights=True,\n",
    "    start_from_epoch=10\n",
    ")\n",
    "\n",
    "checkpoint = tf.keras.callbacks.ModelCheckpoint(\n",
    "    \"/kaggle/working/model/checkpoints/{epoch:02d}-{val_loss:.2f}.keras\",\n",
    "    monitor='val_loss',\n",
    "    verbose=1,\n",
    "    save_best_only=False,\n",
    "    save_weights_only=False,\n",
    "    save_freq='epoch'\n",
    ")\n",
    "\n",
    "reduce_lr =tf.keras.callbacks.ReduceLROnPlateau(\n",
    "    monitor=\"val_loss\", factor=0.5, patience=3, min_lr=1e-6, verbose=1\n",
    ")"
   ]
  },
  {
   "cell_type": "code",
   "execution_count": 25,
   "id": "o5y_GT_n8VJK",
   "metadata": {
    "colab": {
     "base_uri": "https://localhost:8080/"
    },
    "id": "o5y_GT_n8VJK",
    "outputId": "f876b9e7-bdfd-4934-cc9e-2c7df383e72f"
   },
   "outputs": [
    {
     "name": "stdout",
     "output_type": "stream",
     "text": [
      "Epoch 1/60\n",
      "\u001b[1m12082/12082\u001b[0m \u001b[32m━━━━━━━━━━━━━━━━━━━━\u001b[0m\u001b[37m\u001b[0m \u001b[1m0s\u001b[0m 43ms/step - auc: 0.8288 - binary_accuracy: 0.7235 - loss: 0.6608 - precision: 0.5027 - recall: 0.8334\n",
      "Epoch 1: saving model to ../model/model4/checkpoints/01-0.14.keras\n",
      "\u001b[1m12082/12082\u001b[0m \u001b[32m━━━━━━━━━━━━━━━━━━━━\u001b[0m\u001b[37m\u001b[0m \u001b[1m580s\u001b[0m 47ms/step - auc: 0.8288 - binary_accuracy: 0.7235 - loss: 0.6608 - precision: 0.5027 - recall: 0.8334 - val_auc: 0.8898 - val_binary_accuracy: 0.8248 - val_loss: 0.1412 - val_precision: 0.7581 - val_recall: 0.6707 - learning_rate: 0.0010\n",
      "Epoch 2/60\n",
      "\u001b[1m12079/12082\u001b[0m \u001b[32m━━━━━━━━━━━━━━━━━━━\u001b[0m\u001b[37m━\u001b[0m \u001b[1m0s\u001b[0m 16ms/step - auc: 0.8928 - binary_accuracy: 0.7852 - loss: 0.2227 - precision: 0.5724 - recall: 0.8810\n",
      "Epoch 2: saving model to ../model/model4/checkpoints/02-0.14.keras\n",
      "\u001b[1m12082/12082\u001b[0m \u001b[32m━━━━━━━━━━━━━━━━━━━━\u001b[0m\u001b[37m\u001b[0m \u001b[1m249s\u001b[0m 17ms/step - auc: 0.8928 - binary_accuracy: 0.7852 - loss: 0.2227 - precision: 0.5724 - recall: 0.8810 - val_auc: 0.8833 - val_binary_accuracy: 0.8063 - val_loss: 0.1387 - val_precision: 0.6580 - val_recall: 0.8313 - learning_rate: 0.0010\n",
      "Epoch 3/60\n",
      "\u001b[1m12079/12082\u001b[0m \u001b[32m━━━━━━━━━━━━━━━━━━━\u001b[0m\u001b[37m━\u001b[0m \u001b[1m0s\u001b[0m 16ms/step - auc: 0.9008 - binary_accuracy: 0.8000 - loss: 0.2133 - precision: 0.5922 - recall: 0.8881\n",
      "Epoch 3: saving model to ../model/model4/checkpoints/03-0.13.keras\n",
      "\u001b[1m12082/12082\u001b[0m \u001b[32m━━━━━━━━━━━━━━━━━━━━\u001b[0m\u001b[37m\u001b[0m \u001b[1m201s\u001b[0m 17ms/step - auc: 0.9008 - binary_accuracy: 0.8000 - loss: 0.2133 - precision: 0.5922 - recall: 0.8881 - val_auc: 0.8864 - val_binary_accuracy: 0.8276 - val_loss: 0.1293 - val_precision: 0.7113 - val_recall: 0.7832 - learning_rate: 0.0010\n",
      "Epoch 4/60\n",
      "\u001b[1m12079/12082\u001b[0m \u001b[32m━━━━━━━━━━━━━━━━━━━\u001b[0m\u001b[37m━\u001b[0m \u001b[1m0s\u001b[0m 16ms/step - auc: 0.9058 - binary_accuracy: 0.8049 - loss: 0.2077 - precision: 0.5985 - recall: 0.8936\n",
      "Epoch 4: saving model to ../model/model4/checkpoints/04-0.13.keras\n",
      "\u001b[1m12082/12082\u001b[0m \u001b[32m━━━━━━━━━━━━━━━━━━━━\u001b[0m\u001b[37m\u001b[0m \u001b[1m203s\u001b[0m 17ms/step - auc: 0.9058 - binary_accuracy: 0.8049 - loss: 0.2077 - precision: 0.5985 - recall: 0.8936 - val_auc: 0.8790 - val_binary_accuracy: 0.8387 - val_loss: 0.1266 - val_precision: 0.7730 - val_recall: 0.7073 - learning_rate: 0.0010\n",
      "Epoch 5/60\n",
      "\u001b[1m12079/12082\u001b[0m \u001b[32m━━━━━━━━━━━━━━━━━━━\u001b[0m\u001b[37m━\u001b[0m \u001b[1m0s\u001b[0m 16ms/step - auc: 0.9091 - binary_accuracy: 0.8087 - loss: 0.2042 - precision: 0.6039 - recall: 0.8950\n",
      "Epoch 5: saving model to ../model/model4/checkpoints/05-0.15.keras\n",
      "\u001b[1m12082/12082\u001b[0m \u001b[32m━━━━━━━━━━━━━━━━━━━━\u001b[0m\u001b[37m\u001b[0m \u001b[1m201s\u001b[0m 17ms/step - auc: 0.9091 - binary_accuracy: 0.8087 - loss: 0.2042 - precision: 0.6039 - recall: 0.8950 - val_auc: 0.8677 - val_binary_accuracy: 0.7968 - val_loss: 0.1542 - val_precision: 0.8094 - val_recall: 0.4840 - learning_rate: 0.0010\n",
      "Epoch 6/60\n",
      "\u001b[1m12079/12082\u001b[0m \u001b[32m━━━━━━━━━━━━━━━━━━━\u001b[0m\u001b[37m━\u001b[0m \u001b[1m0s\u001b[0m 16ms/step - auc: 0.9114 - binary_accuracy: 0.8121 - loss: 0.2020 - precision: 0.6087 - recall: 0.8964\n",
      "Epoch 6: saving model to ../model/model4/checkpoints/06-0.14.keras\n",
      "\u001b[1m12082/12082\u001b[0m \u001b[32m━━━━━━━━━━━━━━━━━━━━\u001b[0m\u001b[37m\u001b[0m \u001b[1m203s\u001b[0m 17ms/step - auc: 0.9114 - binary_accuracy: 0.8121 - loss: 0.2020 - precision: 0.6087 - recall: 0.8964 - val_auc: 0.8865 - val_binary_accuracy: 0.8329 - val_loss: 0.1442 - val_precision: 0.7875 - val_recall: 0.6600 - learning_rate: 0.0010\n",
      "Epoch 7/60\n",
      "\u001b[1m12082/12082\u001b[0m \u001b[32m━━━━━━━━━━━━━━━━━━━━\u001b[0m\u001b[37m\u001b[0m \u001b[1m0s\u001b[0m 16ms/step - auc: 0.9130 - binary_accuracy: 0.8132 - loss: 0.1991 - precision: 0.6103 - recall: 0.8975\n",
      "Epoch 7: saving model to ../model/model4/checkpoints/07-0.14.keras\n",
      "\n",
      "Epoch 7: ReduceLROnPlateau reducing learning rate to 0.0005000000237487257.\n",
      "\u001b[1m12082/12082\u001b[0m \u001b[32m━━━━━━━━━━━━━━━━━━━━\u001b[0m\u001b[37m\u001b[0m \u001b[1m202s\u001b[0m 17ms/step - auc: 0.9130 - binary_accuracy: 0.8132 - loss: 0.1991 - precision: 0.6103 - recall: 0.8975 - val_auc: 0.8862 - val_binary_accuracy: 0.8175 - val_loss: 0.1440 - val_precision: 0.8111 - val_recall: 0.5657 - learning_rate: 0.0010\n",
      "Epoch 8/60\n",
      "\u001b[1m12080/12082\u001b[0m \u001b[32m━━━━━━━━━━━━━━━━━━━\u001b[0m\u001b[37m━\u001b[0m \u001b[1m0s\u001b[0m 16ms/step - auc: 0.9203 - binary_accuracy: 0.8212 - loss: 0.1853 - precision: 0.6212 - recall: 0.9049\n",
      "Epoch 8: saving model to ../model/model4/checkpoints/08-0.12.keras\n",
      "\u001b[1m12082/12082\u001b[0m \u001b[32m━━━━━━━━━━━━━━━━━━━━\u001b[0m\u001b[37m\u001b[0m \u001b[1m261s\u001b[0m 17ms/step - auc: 0.9203 - binary_accuracy: 0.8212 - loss: 0.1853 - precision: 0.6212 - recall: 0.9049 - val_auc: 0.8984 - val_binary_accuracy: 0.8465 - val_loss: 0.1154 - val_precision: 0.7654 - val_recall: 0.7557 - learning_rate: 5.0000e-04\n",
      "Epoch 9/60\n",
      "\u001b[1m12082/12082\u001b[0m \u001b[32m━━━━━━━━━━━━━━━━━━━━\u001b[0m\u001b[37m\u001b[0m \u001b[1m0s\u001b[0m 16ms/step - auc: 0.9227 - binary_accuracy: 0.8256 - loss: 0.1816 - precision: 0.6282 - recall: 0.9043\n",
      "Epoch 9: saving model to ../model/model4/checkpoints/09-0.11.keras\n",
      "\u001b[1m12082/12082\u001b[0m \u001b[32m━━━━━━━━━━━━━━━━━━━━\u001b[0m\u001b[37m\u001b[0m \u001b[1m201s\u001b[0m 17ms/step - auc: 0.9227 - binary_accuracy: 0.8256 - loss: 0.1816 - precision: 0.6282 - recall: 0.9043 - val_auc: 0.8931 - val_binary_accuracy: 0.8425 - val_loss: 0.1132 - val_precision: 0.7896 - val_recall: 0.6973 - learning_rate: 5.0000e-04\n",
      "Epoch 10/60\n",
      "\u001b[1m12081/12082\u001b[0m \u001b[32m━━━━━━━━━━━━━━━━━━━\u001b[0m\u001b[37m━\u001b[0m \u001b[1m0s\u001b[0m 16ms/step - auc: 0.9237 - binary_accuracy: 0.8246 - loss: 0.1807 - precision: 0.6260 - recall: 0.9078\n",
      "Epoch 10: saving model to ../model/model4/checkpoints/10-0.14.keras\n",
      "\u001b[1m12082/12082\u001b[0m \u001b[32m━━━━━━━━━━━━━━━━━━━━\u001b[0m\u001b[37m\u001b[0m \u001b[1m202s\u001b[0m 17ms/step - auc: 0.9237 - binary_accuracy: 0.8246 - loss: 0.1807 - precision: 0.6260 - recall: 0.9078 - val_auc: 0.8818 - val_binary_accuracy: 0.8150 - val_loss: 0.1371 - val_precision: 0.8517 - val_recall: 0.5162 - learning_rate: 5.0000e-04\n",
      "Epoch 11/60\n",
      "\u001b[1m12079/12082\u001b[0m \u001b[32m━━━━━━━━━━━━━━━━━━━\u001b[0m\u001b[37m━\u001b[0m \u001b[1m0s\u001b[0m 16ms/step - auc: 0.9243 - binary_accuracy: 0.8243 - loss: 0.1800 - precision: 0.6253 - recall: 0.9099\n",
      "Epoch 11: saving model to ../model/model4/checkpoints/11-0.11.keras\n",
      "\u001b[1m12082/12082\u001b[0m \u001b[32m━━━━━━━━━━━━━━━━━━━━\u001b[0m\u001b[37m\u001b[0m \u001b[1m203s\u001b[0m 17ms/step - auc: 0.9243 - binary_accuracy: 0.8243 - loss: 0.1800 - precision: 0.6253 - recall: 0.9099 - val_auc: 0.9006 - val_binary_accuracy: 0.8440 - val_loss: 0.1147 - val_precision: 0.7354 - val_recall: 0.8062 - learning_rate: 5.0000e-04\n",
      "Epoch 12/60\n",
      "\u001b[1m12079/12082\u001b[0m \u001b[32m━━━━━━━━━━━━━━━━━━━\u001b[0m\u001b[37m━\u001b[0m \u001b[1m0s\u001b[0m 16ms/step - auc: 0.9262 - binary_accuracy: 0.8288 - loss: 0.1781 - precision: 0.6322 - recall: 0.9100\n",
      "Epoch 12: saving model to ../model/model4/checkpoints/12-0.11.keras\n",
      "\u001b[1m12082/12082\u001b[0m \u001b[32m━━━━━━━━━━━━━━━━━━━━\u001b[0m\u001b[37m\u001b[0m \u001b[1m202s\u001b[0m 17ms/step - auc: 0.9262 - binary_accuracy: 0.8288 - loss: 0.1781 - precision: 0.6322 - recall: 0.9100 - val_auc: 0.9022 - val_binary_accuracy: 0.8501 - val_loss: 0.1110 - val_precision: 0.7754 - val_recall: 0.7535 - learning_rate: 5.0000e-04\n",
      "Epoch 13/60\n",
      "\u001b[1m12080/12082\u001b[0m \u001b[32m━━━━━━━━━━━━━━━━━━━\u001b[0m\u001b[37m━\u001b[0m \u001b[1m0s\u001b[0m 16ms/step - auc: 0.9265 - binary_accuracy: 0.8267 - loss: 0.1775 - precision: 0.6284 - recall: 0.9128\n",
      "Epoch 13: saving model to ../model/model4/checkpoints/13-0.12.keras\n",
      "\u001b[1m12082/12082\u001b[0m \u001b[32m━━━━━━━━━━━━━━━━━━━━\u001b[0m\u001b[37m\u001b[0m \u001b[1m203s\u001b[0m 17ms/step - auc: 0.9265 - binary_accuracy: 0.8267 - loss: 0.1775 - precision: 0.6284 - recall: 0.9128 - val_auc: 0.9134 - val_binary_accuracy: 0.8488 - val_loss: 0.1182 - val_precision: 0.7322 - val_recall: 0.8374 - learning_rate: 5.0000e-04\n",
      "Epoch 14/60\n",
      "\u001b[1m12081/12082\u001b[0m \u001b[32m━━━━━━━━━━━━━━━━━━━\u001b[0m\u001b[37m━\u001b[0m \u001b[1m0s\u001b[0m 16ms/step - auc: 0.9275 - binary_accuracy: 0.8290 - loss: 0.1768 - precision: 0.6323 - recall: 0.9116\n",
      "Epoch 14: saving model to ../model/model4/checkpoints/14-0.13.keras\n",
      "\u001b[1m12082/12082\u001b[0m \u001b[32m━━━━━━━━━━━━━━━━━━━━\u001b[0m\u001b[37m\u001b[0m \u001b[1m260s\u001b[0m 17ms/step - auc: 0.9275 - binary_accuracy: 0.8290 - loss: 0.1768 - precision: 0.6323 - recall: 0.9116 - val_auc: 0.9080 - val_binary_accuracy: 0.8369 - val_loss: 0.1318 - val_precision: 0.7019 - val_recall: 0.8591 - learning_rate: 5.0000e-04\n",
      "Epoch 15/60\n",
      "\u001b[1m12082/12082\u001b[0m \u001b[32m━━━━━━━━━━━━━━━━━━━━\u001b[0m\u001b[37m\u001b[0m \u001b[1m0s\u001b[0m 16ms/step - auc: 0.9284 - binary_accuracy: 0.8305 - loss: 0.1756 - precision: 0.6346 - recall: 0.9121\n",
      "Epoch 15: saving model to ../model/model4/checkpoints/15-0.13.keras\n",
      "\n",
      "Epoch 15: ReduceLROnPlateau reducing learning rate to 0.0002500000118743628.\n",
      "\u001b[1m12082/12082\u001b[0m \u001b[32m━━━━━━━━━━━━━━━━━━━━\u001b[0m\u001b[37m\u001b[0m \u001b[1m202s\u001b[0m 17ms/step - auc: 0.9284 - binary_accuracy: 0.8305 - loss: 0.1756 - precision: 0.6346 - recall: 0.9121 - val_auc: 0.9103 - val_binary_accuracy: 0.8392 - val_loss: 0.1251 - val_precision: 0.7094 - val_recall: 0.8491 - learning_rate: 5.0000e-04\n",
      "Epoch 16/60\n",
      "\u001b[1m12079/12082\u001b[0m \u001b[32m━━━━━━━━━━━━━━━━━━━\u001b[0m\u001b[37m━\u001b[0m \u001b[1m0s\u001b[0m 16ms/step - auc: 0.9320 - binary_accuracy: 0.8354 - loss: 0.1681 - precision: 0.6419 - recall: 0.9147\n",
      "Epoch 16: saving model to ../model/model4/checkpoints/16-0.10.keras\n",
      "\u001b[1m12082/12082\u001b[0m \u001b[32m━━━━━━━━━━━━━━━━━━━━\u001b[0m\u001b[37m\u001b[0m \u001b[1m203s\u001b[0m 17ms/step - auc: 0.9320 - binary_accuracy: 0.8354 - loss: 0.1681 - precision: 0.6419 - recall: 0.9147 - val_auc: 0.9107 - val_binary_accuracy: 0.8543 - val_loss: 0.1047 - val_precision: 0.7896 - val_recall: 0.7472 - learning_rate: 2.5000e-04\n",
      "Epoch 17/60\n",
      "\u001b[1m12081/12082\u001b[0m \u001b[32m━━━━━━━━━━━━━━━━━━━\u001b[0m\u001b[37m━\u001b[0m \u001b[1m0s\u001b[0m 16ms/step - auc: 0.9343 - binary_accuracy: 0.8353 - loss: 0.1641 - precision: 0.6412 - recall: 0.9181\n",
      "Epoch 17: saving model to ../model/model4/checkpoints/17-0.11.keras\n",
      "\u001b[1m12082/12082\u001b[0m \u001b[32m━━━━━━━━━━━━━━━━━━━━\u001b[0m\u001b[37m\u001b[0m \u001b[1m262s\u001b[0m 17ms/step - auc: 0.9343 - binary_accuracy: 0.8353 - loss: 0.1641 - precision: 0.6412 - recall: 0.9181 - val_auc: 0.9080 - val_binary_accuracy: 0.8485 - val_loss: 0.1125 - val_precision: 0.7356 - val_recall: 0.8274 - learning_rate: 2.5000e-04\n",
      "Epoch 18/60\n",
      "\u001b[1m12081/12082\u001b[0m \u001b[32m━━━━━━━━━━━━━━━━━━━\u001b[0m\u001b[37m━\u001b[0m \u001b[1m0s\u001b[0m 16ms/step - auc: 0.9347 - binary_accuracy: 0.8375 - loss: 0.1631 - precision: 0.6449 - recall: 0.9170\n",
      "Epoch 18: saving model to ../model/model4/checkpoints/18-0.11.keras\n",
      "\u001b[1m12082/12082\u001b[0m \u001b[32m━━━━━━━━━━━━━━━━━━━━\u001b[0m\u001b[37m\u001b[0m \u001b[1m204s\u001b[0m 17ms/step - auc: 0.9347 - binary_accuracy: 0.8375 - loss: 0.1631 - precision: 0.6449 - recall: 0.9170 - val_auc: 0.9040 - val_binary_accuracy: 0.8493 - val_loss: 0.1096 - val_precision: 0.7564 - val_recall: 0.7857 - learning_rate: 2.5000e-04\n",
      "Epoch 19/60\n",
      "\u001b[1m12079/12082\u001b[0m \u001b[32m━━━━━━━━━━━━━━━━━━━\u001b[0m\u001b[37m━\u001b[0m \u001b[1m0s\u001b[0m 16ms/step - auc: 0.9361 - binary_accuracy: 0.8365 - loss: 0.1617 - precision: 0.6423 - recall: 0.9220\n",
      "Epoch 19: saving model to ../model/model4/checkpoints/19-0.12.keras\n",
      "\n",
      "Epoch 19: ReduceLROnPlateau reducing learning rate to 0.0001250000059371814.\n",
      "\u001b[1m12082/12082\u001b[0m \u001b[32m━━━━━━━━━━━━━━━━━━━━\u001b[0m\u001b[37m\u001b[0m \u001b[1m260s\u001b[0m 17ms/step - auc: 0.9361 - binary_accuracy: 0.8365 - loss: 0.1617 - precision: 0.6423 - recall: 0.9220 - val_auc: 0.9085 - val_binary_accuracy: 0.8391 - val_loss: 0.1165 - val_precision: 0.7087 - val_recall: 0.8507 - learning_rate: 2.5000e-04\n",
      "Epoch 20/60\n",
      "\u001b[1m12082/12082\u001b[0m \u001b[32m━━━━━━━━━━━━━━━━━━━━\u001b[0m\u001b[37m\u001b[0m \u001b[1m0s\u001b[0m 16ms/step - auc: 0.9384 - binary_accuracy: 0.8422 - loss: 0.1577 - precision: 0.6512 - recall: 0.9239\n",
      "Epoch 20: saving model to ../model/model4/checkpoints/20-0.11.keras\n",
      "\u001b[1m12082/12082\u001b[0m \u001b[32m━━━━━━━━━━━━━━━━━━━━\u001b[0m\u001b[37m\u001b[0m \u001b[1m261s\u001b[0m 17ms/step - auc: 0.9384 - binary_accuracy: 0.8422 - loss: 0.1577 - precision: 0.6512 - recall: 0.9239 - val_auc: 0.9064 - val_binary_accuracy: 0.8468 - val_loss: 0.1102 - val_precision: 0.7245 - val_recall: 0.8467 - learning_rate: 1.2500e-04\n",
      "Epoch 21/60\n",
      "\u001b[1m12082/12082\u001b[0m \u001b[32m━━━━━━━━━━━━━━━━━━━━\u001b[0m\u001b[37m\u001b[0m \u001b[1m0s\u001b[0m 16ms/step - auc: 0.9390 - binary_accuracy: 0.8413 - loss: 0.1557 - precision: 0.6497 - recall: 0.9243\n",
      "Epoch 21: saving model to ../model/model4/checkpoints/21-0.11.keras\n",
      "\u001b[1m12082/12082\u001b[0m \u001b[32m━━━━━━━━━━━━━━━━━━━━\u001b[0m\u001b[37m\u001b[0m \u001b[1m200s\u001b[0m 17ms/step - auc: 0.9390 - binary_accuracy: 0.8413 - loss: 0.1557 - precision: 0.6497 - recall: 0.9243 - val_auc: 0.9059 - val_binary_accuracy: 0.8528 - val_loss: 0.1065 - val_precision: 0.7566 - val_recall: 0.8014 - learning_rate: 1.2500e-04\n"
     ]
    }
   ],
   "source": [
    "history = model.fit(\n",
    "    X_train,\n",
    "    epochs=60,\n",
    "    verbose=1,\n",
    "    callbacks=[early_stopping, checkpoint, reduce_lr],\n",
    "    validation_split=0,\n",
    "    validation_data=X_val,\n",
    "    validation_steps=None,\n",
    "    class_weight={0:1.0, 1:4.2},\n",
    "    validation_freq=1\n",
    ")\n",
    "\n",
    "model.save(\"../model/model4/model.keras\")"
   ]
  },
  {
   "cell_type": "markdown",
   "id": "QnNNWVS4b46_",
   "metadata": {
    "id": "QnNNWVS4b46_"
   },
   "source": [
    "Due to collab crashing, the model training stopped, but we can resume it on Kaggle from epoch 21 where it ended"
   ]
  },
  {
   "cell_type": "code",
   "execution_count": 20,
   "id": "RCGLWt3da8eH",
   "metadata": {
    "colab": {
     "base_uri": "https://localhost:8080/"
    },
    "execution": {
     "iopub.execute_input": "2025-07-12T22:44:55.010585Z",
     "iopub.status.busy": "2025-07-12T22:44:55.010018Z",
     "iopub.status.idle": "2025-07-12T23:14:20.424331Z",
     "shell.execute_reply": "2025-07-12T23:14:20.423530Z",
     "shell.execute_reply.started": "2025-07-12T22:44:55.010562Z"
    },
    "id": "RCGLWt3da8eH",
    "outputId": "202c67ef-8e71-4c59-9375-a37de76a3fb5",
    "trusted": true
   },
   "outputs": [
    {
     "name": "stdout",
     "output_type": "stream",
     "text": [
      "Epoch 22/60\n"
     ]
    },
    {
     "name": "stderr",
     "output_type": "stream",
     "text": [
      "2025-07-12 22:44:55.371271: E tensorflow/core/framework/node_def_util.cc:676] NodeDef mentions attribute use_unbounded_threadpool which is not in the op definition: Op<name=MapDataset; signature=input_dataset:variant, other_arguments: -> handle:variant; attr=f:func; attr=Targuments:list(type),min=0; attr=output_types:list(type),min=1; attr=output_shapes:list(shape),min=1; attr=use_inter_op_parallelism:bool,default=true; attr=preserve_cardinality:bool,default=false; attr=force_synchronous:bool,default=false; attr=metadata:string,default=\"\"> This may be expected if your graph generating binary is newer  than this binary. Unknown attributes will be ignored. NodeDef: {{node ParallelMapDatasetV2/_5}}\n"
     ]
    },
    {
     "name": "stdout",
     "output_type": "stream",
     "text": [
      "\u001b[1m12079/12082\u001b[0m \u001b[32m━━━━━━━━━━━━━━━━━━━\u001b[0m\u001b[37m━\u001b[0m \u001b[1m0s\u001b[0m 10ms/step - auc: 0.9167 - binary_accuracy: 0.8173 - loss: 0.1953 - precision: 0.6163 - recall: 0.8984\n",
      "Epoch 22: saving model to /kaggle/working/model/checkpoints/22-0.12.keras\n",
      "\u001b[1m12082/12082\u001b[0m \u001b[32m━━━━━━━━━━━━━━━━━━━━\u001b[0m\u001b[37m\u001b[0m \u001b[1m141s\u001b[0m 11ms/step - auc: 0.9167 - binary_accuracy: 0.8173 - loss: 0.1953 - precision: 0.6163 - recall: 0.8984 - val_auc: 0.9051 - val_binary_accuracy: 0.8402 - val_loss: 0.1202 - val_precision: 0.7396 - val_recall: 0.7786 - learning_rate: 0.0010\n",
      "Epoch 23/60\n",
      "\u001b[1m12081/12082\u001b[0m \u001b[32m━━━━━━━━━━━━━━━━━━━\u001b[0m\u001b[37m━\u001b[0m \u001b[1m0s\u001b[0m 10ms/step - auc: 0.9126 - binary_accuracy: 0.8070 - loss: 0.2028 - precision: 0.6009 - recall: 0.8988\n",
      "Epoch 23: saving model to /kaggle/working/model/checkpoints/23-0.16.keras\n",
      "\u001b[1m12082/12082\u001b[0m \u001b[32m━━━━━━━━━━━━━━━━━━━━\u001b[0m\u001b[37m\u001b[0m \u001b[1m134s\u001b[0m 11ms/step - auc: 0.9126 - binary_accuracy: 0.8070 - loss: 0.2028 - precision: 0.6009 - recall: 0.8988 - val_auc: 0.8709 - val_binary_accuracy: 0.7754 - val_loss: 0.1575 - val_precision: 0.8451 - val_recall: 0.3714 - learning_rate: 0.0010\n",
      "Epoch 24/60\n",
      "\u001b[1m12080/12082\u001b[0m \u001b[32m━━━━━━━━━━━━━━━━━━━\u001b[0m\u001b[37m━\u001b[0m \u001b[1m0s\u001b[0m 10ms/step - auc: 0.9115 - binary_accuracy: 0.8059 - loss: 0.2046 - precision: 0.5995 - recall: 0.8970\n",
      "Epoch 24: saving model to /kaggle/working/model/checkpoints/24-0.12.keras\n",
      "\u001b[1m12082/12082\u001b[0m \u001b[32m━━━━━━━━━━━━━━━━━━━━\u001b[0m\u001b[37m\u001b[0m \u001b[1m134s\u001b[0m 11ms/step - auc: 0.9115 - binary_accuracy: 0.8059 - loss: 0.2046 - precision: 0.5995 - recall: 0.8970 - val_auc: 0.8969 - val_binary_accuracy: 0.8356 - val_loss: 0.1177 - val_precision: 0.7765 - val_recall: 0.6882 - learning_rate: 0.0010\n",
      "Epoch 25/60\n",
      "\u001b[1m12082/12082\u001b[0m \u001b[32m━━━━━━━━━━━━━━━━━━━━\u001b[0m\u001b[37m\u001b[0m \u001b[1m0s\u001b[0m 10ms/step - auc: 0.9119 - binary_accuracy: 0.8052 - loss: 0.2035 - precision: 0.5985 - recall: 0.8983\n",
      "Epoch 25: saving model to /kaggle/working/model/checkpoints/25-0.12.keras\n",
      "\u001b[1m12082/12082\u001b[0m \u001b[32m━━━━━━━━━━━━━━━━━━━━\u001b[0m\u001b[37m\u001b[0m \u001b[1m134s\u001b[0m 11ms/step - auc: 0.9119 - binary_accuracy: 0.8052 - loss: 0.2035 - precision: 0.5985 - recall: 0.8983 - val_auc: 0.8908 - val_binary_accuracy: 0.8340 - val_loss: 0.1164 - val_precision: 0.8082 - val_recall: 0.6361 - learning_rate: 0.0010\n",
      "Epoch 26/60\n",
      "\u001b[1m12079/12082\u001b[0m \u001b[32m━━━━━━━━━━━━━━━━━━━\u001b[0m\u001b[37m━\u001b[0m \u001b[1m0s\u001b[0m 10ms/step - auc: 0.9107 - binary_accuracy: 0.8040 - loss: 0.2038 - precision: 0.5970 - recall: 0.8952\n",
      "Epoch 26: saving model to /kaggle/working/model/checkpoints/26-0.12.keras\n",
      "\u001b[1m12082/12082\u001b[0m \u001b[32m━━━━━━━━━━━━━━━━━━━━\u001b[0m\u001b[37m\u001b[0m \u001b[1m134s\u001b[0m 11ms/step - auc: 0.9107 - binary_accuracy: 0.8040 - loss: 0.2038 - precision: 0.5970 - recall: 0.8952 - val_auc: 0.8951 - val_binary_accuracy: 0.8411 - val_loss: 0.1212 - val_precision: 0.7944 - val_recall: 0.6844 - learning_rate: 0.0010\n",
      "Epoch 27/60\n",
      "\u001b[1m12080/12082\u001b[0m \u001b[32m━━━━━━━━━━━━━━━━━━━\u001b[0m\u001b[37m━\u001b[0m \u001b[1m0s\u001b[0m 10ms/step - auc: 0.9101 - binary_accuracy: 0.8036 - loss: 0.2050 - precision: 0.5965 - recall: 0.8947\n",
      "Epoch 27: saving model to /kaggle/working/model/checkpoints/27-0.15.keras\n",
      "\u001b[1m12082/12082\u001b[0m \u001b[32m━━━━━━━━━━━━━━━━━━━━\u001b[0m\u001b[37m\u001b[0m \u001b[1m135s\u001b[0m 11ms/step - auc: 0.9101 - binary_accuracy: 0.8036 - loss: 0.2050 - precision: 0.5965 - recall: 0.8947 - val_auc: 0.8775 - val_binary_accuracy: 0.7848 - val_loss: 0.1510 - val_precision: 0.8545 - val_recall: 0.4008 - learning_rate: 0.0010\n",
      "Epoch 28/60\n",
      "\u001b[1m12079/12082\u001b[0m \u001b[32m━━━━━━━━━━━━━━━━━━━\u001b[0m\u001b[37m━\u001b[0m \u001b[1m0s\u001b[0m 10ms/step - auc: 0.9107 - binary_accuracy: 0.8045 - loss: 0.2045 - precision: 0.5975 - recall: 0.8977\n",
      "Epoch 28: saving model to /kaggle/working/model/checkpoints/28-0.22.keras\n",
      "\n",
      "Epoch 28: ReduceLROnPlateau reducing learning rate to 0.0005000000237487257.\n",
      "\u001b[1m12082/12082\u001b[0m \u001b[32m━━━━━━━━━━━━━━━━━━━━\u001b[0m\u001b[37m\u001b[0m \u001b[1m134s\u001b[0m 11ms/step - auc: 0.9107 - binary_accuracy: 0.8045 - loss: 0.2045 - precision: 0.5975 - recall: 0.8977 - val_auc: 0.8489 - val_binary_accuracy: 0.7471 - val_loss: 0.2193 - val_precision: 0.8528 - val_recall: 0.2608 - learning_rate: 0.0010\n",
      "Epoch 29/60\n",
      "\u001b[1m12082/12082\u001b[0m \u001b[32m━━━━━━━━━━━━━━━━━━━━\u001b[0m\u001b[37m\u001b[0m \u001b[1m0s\u001b[0m 10ms/step - auc: 0.9157 - binary_accuracy: 0.8142 - loss: 0.1967 - precision: 0.6110 - recall: 0.9014\n",
      "Epoch 29: saving model to /kaggle/working/model/checkpoints/29-0.11.keras\n",
      "\u001b[1m12082/12082\u001b[0m \u001b[32m━━━━━━━━━━━━━━━━━━━━\u001b[0m\u001b[37m\u001b[0m \u001b[1m134s\u001b[0m 11ms/step - auc: 0.9157 - binary_accuracy: 0.8142 - loss: 0.1967 - precision: 0.6110 - recall: 0.9014 - val_auc: 0.8972 - val_binary_accuracy: 0.8409 - val_loss: 0.1107 - val_precision: 0.7849 - val_recall: 0.6979 - learning_rate: 5.0000e-04\n",
      "Epoch 30/60\n",
      "\u001b[1m12081/12082\u001b[0m \u001b[32m━━━━━━━━━━━━━━━━━━━\u001b[0m\u001b[37m━\u001b[0m \u001b[1m0s\u001b[0m 11ms/step - auc: 0.9166 - binary_accuracy: 0.8118 - loss: 0.1950 - precision: 0.6076 - recall: 0.9014\n",
      "Epoch 30: saving model to /kaggle/working/model/checkpoints/30-0.12.keras\n",
      "\u001b[1m12082/12082\u001b[0m \u001b[32m━━━━━━━━━━━━━━━━━━━━\u001b[0m\u001b[37m\u001b[0m \u001b[1m137s\u001b[0m 11ms/step - auc: 0.9166 - binary_accuracy: 0.8118 - loss: 0.1950 - precision: 0.6076 - recall: 0.9014 - val_auc: 0.8874 - val_binary_accuracy: 0.8386 - val_loss: 0.1156 - val_precision: 0.7778 - val_recall: 0.6992 - learning_rate: 5.0000e-04\n",
      "Epoch 31/60\n",
      "\u001b[1m12080/12082\u001b[0m \u001b[32m━━━━━━━━━━━━━━━━━━━\u001b[0m\u001b[37m━\u001b[0m \u001b[1m0s\u001b[0m 11ms/step - auc: 0.9151 - binary_accuracy: 0.8085 - loss: 0.1968 - precision: 0.6030 - recall: 0.8995\n",
      "Epoch 31: saving model to /kaggle/working/model/checkpoints/31-0.11.keras\n",
      "\u001b[1m12082/12082\u001b[0m \u001b[32m━━━━━━━━━━━━━━━━━━━━\u001b[0m\u001b[37m\u001b[0m \u001b[1m137s\u001b[0m 11ms/step - auc: 0.9151 - binary_accuracy: 0.8085 - loss: 0.1968 - precision: 0.6030 - recall: 0.8995 - val_auc: 0.9045 - val_binary_accuracy: 0.8466 - val_loss: 0.1136 - val_precision: 0.7660 - val_recall: 0.7549 - learning_rate: 5.0000e-04\n",
      "Epoch 32/60\n",
      "\u001b[1m12078/12082\u001b[0m \u001b[32m━━━━━━━━━━━━━━━━━━━\u001b[0m\u001b[37m━\u001b[0m \u001b[1m0s\u001b[0m 11ms/step - auc: 0.9154 - binary_accuracy: 0.8100 - loss: 0.1965 - precision: 0.6048 - recall: 0.9017\n",
      "Epoch 32: saving model to /kaggle/working/model/checkpoints/32-0.12.keras\n",
      "\n",
      "Epoch 32: ReduceLROnPlateau reducing learning rate to 0.0002500000118743628.\n",
      "\u001b[1m12082/12082\u001b[0m \u001b[32m━━━━━━━━━━━━━━━━━━━━\u001b[0m\u001b[37m\u001b[0m \u001b[1m137s\u001b[0m 11ms/step - auc: 0.9154 - binary_accuracy: 0.8100 - loss: 0.1965 - precision: 0.6048 - recall: 0.9017 - val_auc: 0.8993 - val_binary_accuracy: 0.8373 - val_loss: 0.1167 - val_precision: 0.7396 - val_recall: 0.7649 - learning_rate: 5.0000e-04\n",
      "Epoch 33/60\n",
      "\u001b[1m12081/12082\u001b[0m \u001b[32m━━━━━━━━━━━━━━━━━━━\u001b[0m\u001b[37m━\u001b[0m \u001b[1m0s\u001b[0m 11ms/step - auc: 0.9186 - binary_accuracy: 0.8149 - loss: 0.1905 - precision: 0.6124 - recall: 0.9006\n",
      "Epoch 33: saving model to /kaggle/working/model/checkpoints/33-0.11.keras\n",
      "\u001b[1m12082/12082\u001b[0m \u001b[32m━━━━━━━━━━━━━━━━━━━━\u001b[0m\u001b[37m\u001b[0m \u001b[1m137s\u001b[0m 11ms/step - auc: 0.9186 - binary_accuracy: 0.8149 - loss: 0.1905 - precision: 0.6124 - recall: 0.9006 - val_auc: 0.8915 - val_binary_accuracy: 0.8429 - val_loss: 0.1121 - val_precision: 0.7894 - val_recall: 0.6995 - learning_rate: 2.5000e-04\n",
      "Epoch 34/60\n",
      "\u001b[1m12081/12082\u001b[0m \u001b[32m━━━━━━━━━━━━━━━━━━━\u001b[0m\u001b[37m━\u001b[0m \u001b[1m0s\u001b[0m 11ms/step - auc: 0.9190 - binary_accuracy: 0.8159 - loss: 0.1899 - precision: 0.6135 - recall: 0.9025\n",
      "Epoch 34: saving model to /kaggle/working/model/checkpoints/34-0.12.keras\n",
      "\u001b[1m12082/12082\u001b[0m \u001b[32m━━━━━━━━━━━━━━━━━━━━\u001b[0m\u001b[37m\u001b[0m \u001b[1m137s\u001b[0m 11ms/step - auc: 0.9190 - binary_accuracy: 0.8159 - loss: 0.1899 - precision: 0.6135 - recall: 0.9025 - val_auc: 0.8959 - val_binary_accuracy: 0.8350 - val_loss: 0.1205 - val_precision: 0.7047 - val_recall: 0.8407 - learning_rate: 2.5000e-04\n"
     ]
    }
   ],
   "source": [
    "model= tf.keras.models.load_model('/kaggle/input/cnn_model_bc/keras/default/1/model.keras')\n",
    "\n",
    "history = model.fit(\n",
    "    X_train,\n",
    "    epochs=60,\n",
    "    verbose=1,\n",
    "    callbacks=[early_stopping, checkpoint, reduce_lr],\n",
    "    initial_epoch=21,\n",
    "    validation_split=0,\n",
    "    validation_data=X_val,\n",
    "    validation_steps=None,\n",
    "    class_weight={0:1.0, 1:4.2},\n",
    "    validation_freq=1\n",
    ")\n",
    "\n",
    "model.save('/kaggle/working/model/model_v5.keras')"
   ]
  },
  {
   "cell_type": "code",
   "execution_count": 21,
   "id": "b01b12f6-9fc0-4aae-9c7a-45b0614de3cc",
   "metadata": {
    "execution": {
     "iopub.execute_input": "2025-07-12T23:18:30.662862Z",
     "iopub.status.busy": "2025-07-12T23:18:30.662209Z",
     "iopub.status.idle": "2025-07-12T23:18:31.187487Z",
     "shell.execute_reply": "2025-07-12T23:18:31.186784Z",
     "shell.execute_reply.started": "2025-07-12T23:18:30.662833Z"
    },
    "trusted": true
   },
   "outputs": [
    {
     "data": {
      "text/plain": [
       "<Axes: >"
      ]
     },
     "execution_count": 21,
     "metadata": {},
     "output_type": "execute_result"
    },
    {
     "data": {
      "image/png": "[encoded data removed]",
      "text/plain": [
       "<Figure size 640x480 with 1 Axes>"
      ]
     },
     "metadata": {},
     "output_type": "display_data"
    },
    {
     "data": {
      "image/png": "[encoded data removed]",
      "text/plain": [
       "<Figure size 640x480 with 1 Axes>"
      ]
     },
     "metadata": {},
     "output_type": "display_data"
    }
   ],
   "source": [
    "history_df = pd.DataFrame(history.history)\n",
    "history_df.loc[:, ['loss', 'val_loss']].plot()\n",
    "history_df.loc[:, ['binary_accuracy', 'val_binary_accuracy', 'recall', 'val_recall']].plot()"
   ]
  },
  {
   "cell_type": "markdown",
   "id": "9d692d41-11c7-4ab1-94c0-bb3952b810b9",
   "metadata": {},
   "source": [
    "pretty good results! let's evaluate on testing set"
   ]
  },
  {
   "cell_type": "code",
   "execution_count": 6,
   "id": "e0a18e90-6a21-4fed-8ffd-05b4e22b5cdc",
   "metadata": {
    "execution": {
     "iopub.execute_input": "2025-07-12T23:22:34.198586Z",
     "iopub.status.busy": "2025-07-12T23:22:34.198189Z",
     "iopub.status.idle": "2025-07-12T23:23:52.136484Z",
     "shell.execute_reply": "2025-07-12T23:23:52.135679Z",
     "shell.execute_reply.started": "2025-07-12T23:22:34.198554Z"
    },
    "trusted": true
   },
   "outputs": [
    {
     "name": "stdout",
     "output_type": "stream",
     "text": [
      "Found 45729 files belonging to 2 classes.\n"
     ]
    }
   ],
   "source": [
    "X_test = image_dataset_from_directory(\n",
    "    test_path,\n",
    "    labels='inferred',\n",
    "    label_mode='binary',\n",
    "    color_mode='rgb',\n",
    "    batch_size=None,\n",
    "    image_size=(50,50),\n",
    "    shuffle=True,\n",
    "    interpolation='nearest'\n",
    ")\n",
    "X_test = (\n",
    "    X_test\n",
    "    .map(preprocess, num_parallel_calls=AUTOTUNE, deterministic=True)\n",
    "    .batch(16)\n",
    "    .cache()\n",
    "    .prefetch(buffer_size=AUTOTUNE)\n",
    ")"
   ]
  },
  {
   "cell_type": "code",
   "execution_count": 7,
   "id": "57f99ed4",
   "metadata": {},
   "outputs": [],
   "source": [
    "model = tf.keras.models.load_model('../model/model3/model_v5.keras')"
   ]
  },
  {
   "cell_type": "code",
   "execution_count": 8,
   "id": "183d5edf-a70c-4d1f-88e0-7173f2260477",
   "metadata": {
    "execution": {
     "iopub.execute_input": "2025-07-12T23:24:11.233562Z",
     "iopub.status.busy": "2025-07-12T23:24:11.232857Z",
     "iopub.status.idle": "2025-07-12T23:25:42.380538Z",
     "shell.execute_reply": "2025-07-12T23:25:42.379751Z",
     "shell.execute_reply.started": "2025-07-12T23:24:11.233533Z"
    },
    "trusted": true
   },
   "outputs": [
    {
     "name": "stdout",
     "output_type": "stream",
     "text": [
      "\u001b[1m2859/2859\u001b[0m \u001b[32m━━━━━━━━━━━━━━━━━━━━\u001b[0m\u001b[37m\u001b[0m \u001b[1m89s\u001b[0m 31ms/step - auc: 0.9026 - binary_accuracy: 0.8406 - loss: 0.1080 - precision: 0.6987 - recall: 0.7772\n"
     ]
    },
    {
     "data": {
      "text/plain": [
       "{'auc': 0.9044559001922607,\n",
       " 'binary_accuracy': 0.8445625305175781,\n",
       " 'loss': 0.1068098247051239,\n",
       " 'precision': 0.7008564472198486,\n",
       " 'recall': 0.7851284146308899}"
      ]
     },
     "execution_count": 8,
     "metadata": {},
     "output_type": "execute_result"
    }
   ],
   "source": [
    "model.evaluate(\n",
    "    X_test,\n",
    "    batch_size=None,\n",
    "    verbose=1,\n",
    "    steps=None,\n",
    "    return_dict=True\n",
    ")"
   ]
  },
  {
   "cell_type": "markdown",
   "id": "18b5576e-55e0-4ee8-a218-bbfe6926474d",
   "metadata": {},
   "source": [
    "I am more than happy with these results, the model learned to generalize very well, AUC shows an excellent ability to distinguish between positive and negative classes, 84.4% accuracy is very good for this imbalanced data, precision is okay and most importantly we have 78.5% of Recall which is very good, we will rarely have a false negative while keeping a reasonable false positives rate.\n",
    "\n",
    "let's see this more clearly on a confusion matrix.\n",
    "\n",
    "But scikit-learn's classification metrics can't handle a mix of binary and continuous targets so we need to find a good threshold to binarize our predictions and we'll use the recall and precision curve and then look for the best f1 score, and ROC curve so we can compare both."
   ]
  },
  {
   "cell_type": "code",
   "execution_count": 9,
   "id": "53092438-3b37-4ec1-b3b3-256fe4d1420c",
   "metadata": {
    "execution": {
     "iopub.execute_input": "2025-07-13T00:37:02.962238Z",
     "iopub.status.busy": "2025-07-13T00:37:02.961564Z",
     "iopub.status.idle": "2025-07-13T00:37:09.810715Z",
     "shell.execute_reply": "2025-07-13T00:37:09.810151Z",
     "shell.execute_reply.started": "2025-07-13T00:37:02.962211Z"
    },
    "trusted": true
   },
   "outputs": [
    {
     "name": "stdout",
     "output_type": "stream",
     "text": [
      "\u001b[1m2859/2859\u001b[0m \u001b[32m━━━━━━━━━━━━━━━━━━━━\u001b[0m\u001b[37m\u001b[0m \u001b[1m17s\u001b[0m 6ms/step\n"
     ]
    }
   ],
   "source": [
    "y_pred = model.predict(X_test)\n",
    "y_true = np.concatenate([labels for _,labels in X_test])"
   ]
  },
  {
   "cell_type": "markdown",
   "id": "ceba5c52-e2a2-4e3d-8149-be8bd28cfb2f",
   "metadata": {},
   "source": [
    "ROC curve method"
   ]
  },
  {
   "cell_type": "code",
   "execution_count": 10,
   "id": "67368bbf-baa1-461a-91d6-5726ff63602f",
   "metadata": {
    "execution": {
     "iopub.execute_input": "2025-07-13T00:26:51.713258Z",
     "iopub.status.busy": "2025-07-13T00:26:51.712733Z",
     "iopub.status.idle": "2025-07-13T00:26:51.727670Z",
     "shell.execute_reply": "2025-07-13T00:26:51.726938Z",
     "shell.execute_reply.started": "2025-07-13T00:26:51.713230Z"
    },
    "trusted": true
   },
   "outputs": [
    {
     "name": "stdout",
     "output_type": "stream",
     "text": [
      "Best threshold by ROC Youden's J: 0.4114065170288086\n"
     ]
    }
   ],
   "source": [
    "fpr, tpr, thresholds = roc_curve(y_true, y_pred)\n",
    "j_scores = tpr - fpr\n",
    "best_threshold_roc = thresholds[np.argmax(j_scores)]\n",
    "print(f\"Best threshold by ROC Youden's J: {best_threshold_roc}\")"
   ]
  },
  {
   "cell_type": "markdown",
   "id": "af71368d-8d03-4ccf-9fbb-2ead5f14dcef",
   "metadata": {},
   "source": [
    "best f1 score calculator"
   ]
  },
  {
   "cell_type": "code",
   "execution_count": 11,
   "id": "b9072a44-e7d5-4462-aedb-67a905a3eb39",
   "metadata": {
    "execution": {
     "iopub.execute_input": "2025-07-13T00:23:22.634252Z",
     "iopub.status.busy": "2025-07-13T00:23:22.633584Z",
     "iopub.status.idle": "2025-07-13T00:23:42.034998Z",
     "shell.execute_reply": "2025-07-13T00:23:42.034330Z",
     "shell.execute_reply.started": "2025-07-13T00:23:22.634229Z"
    },
    "trusted": true
   },
   "outputs": [
    {
     "name": "stdout",
     "output_type": "stream",
     "text": [
      "Best threshold by F1 score: 0.48848848848848847\n"
     ]
    }
   ],
   "source": [
    "f1_scores = []\n",
    "thresholds = np.linspace(0.4,0.6,1000)\n",
    "\n",
    "for t in thresholds:\n",
    "    preds = (y_pred >= t).astype(int)\n",
    "    f1 = f1_score(y_true, preds)\n",
    "    f1_scores.append(f1)\n",
    "\n",
    "best_threshold = thresholds[np.argmax(f1_scores)]\n",
    "print(f\"Best threshold by F1 score: {best_threshold}\")"
   ]
  },
  {
   "cell_type": "markdown",
   "id": "fbdf9f94",
   "metadata": {},
   "source": [
    "And we can see both these thresholds on a recall, precision curve"
   ]
  },
  {
   "cell_type": "code",
   "execution_count": 28,
   "id": "2cfd0b9f",
   "metadata": {},
   "outputs": [],
   "source": [
    "y_true = []\n",
    "y_score = []\n",
    "\n",
    "for images, labels in X_test:\n",
    "    probs = model.predict(images, verbose=0)\n",
    "    y_score.extend(probs.flatten())       # predicted probabilities\n",
    "    y_true.extend(labels.numpy().flatten())  # true labels\n",
    "\n",
    "y_true = np.array(y_true)\n",
    "y_score = np.array(y_score)\n",
    "\n",
    "precision, recall, thresholds = precision_recall_curve(y_true, y_score)"
   ]
  },
  {
   "cell_type": "code",
   "execution_count": 76,
   "id": "7b8bd37b",
   "metadata": {},
   "outputs": [
    {
     "data": {
      "image/png": "[encoded data removed]",
      "text/plain": [
       "<Figure size 800x800 with 1 Axes>"
      ]
     },
     "metadata": {},
     "output_type": "display_data"
    }
   ],
   "source": [
    "plt.figure(figsize=(8,8))\n",
    "plt.plot(thresholds, precision[:-1], label='Precision')\n",
    "plt.plot(thresholds, recall[:-1], label='Recall')\n",
    "plt.axvline(x=0.4114,ymin=0,ymax=0.845, color='red', linestyle='--', label='ROC curve method')\n",
    "plt.axvline(x=0.4885, ymin=0, ymax=0.78 ,color='green', linestyle='--', label='Best f1 score method')\n",
    "\n",
    "idx_roc = np.abs(thresholds - 0.4114).argmin()\n",
    "idx_f1 = np.abs(thresholds - 0.4885).argmin()\n",
    "\n",
    "prec_roc = precision[idx_roc]\n",
    "rec_roc = recall[idx_roc]\n",
    "prec_f1 = precision[idx_f1]\n",
    "rec_f1 = recall[idx_f1]\n",
    "\n",
    "plt.axhline(y=prec_roc, color='red', linestyle='--', alpha=0.5, xmin=0, xmax=0.435)\n",
    "plt.axhline(y=rec_roc, color='red', linestyle='--', alpha=0.5, xmin=0, xmax=0.435)\n",
    "plt.axhline(y=prec_f1, color='green', linestyle='--', alpha=0.5, xmin=0, xmax=0.505)\n",
    "plt.axhline(y=rec_f1, color='green', linestyle='--', alpha=0.5, xmin=0, xmax=0.505)\n",
    "\n",
    "plt.xticks(np.linspace(0,1,51), rotation=-90)\n",
    "plt.yticks(np.linspace(0,1,51))\n",
    "plt.xlabel('Threshold')\n",
    "plt.ylabel('Score')\n",
    "plt.title('Precision-Recall vs Threshold')\n",
    "plt.legend()\n",
    "plt.grid(True)\n",
    "plt.show()"
   ]
  },
  {
   "cell_type": "code",
   "execution_count": 47,
   "id": "82585aa4-c08b-4dff-a629-659eb6578c69",
   "metadata": {
    "execution": {
     "iopub.execute_input": "2025-07-13T00:46:00.710020Z",
     "iopub.status.busy": "2025-07-13T00:46:00.709423Z",
     "iopub.status.idle": "2025-07-13T00:46:00.714714Z",
     "shell.execute_reply": "2025-07-13T00:46:00.713770Z",
     "shell.execute_reply.started": "2025-07-13T00:46:00.709996Z"
    },
    "trusted": true
   },
   "outputs": [],
   "source": [
    "def plot_confusion(X_test, threshold):\n",
    "    y_pred = model.predict(X_test)\n",
    "    y_true = np.concatenate([labels for _,labels in X_test])\n",
    "    \n",
    "    def binarize(y):\n",
    "        if y>=threshold:\n",
    "            return 1\n",
    "        else:\n",
    "            return 0\n",
    "    \n",
    "    y_pred = [binarize(y) for y in y_pred]\n",
    "    mat = confusion_matrix(\n",
    "        y_true=y_true,\n",
    "        y_pred=y_pred\n",
    "    )\n",
    "    return mat"
   ]
  },
  {
   "cell_type": "code",
   "execution_count": 85,
   "id": "67a69f44-4931-4c8c-9e00-5a2c5bc61588",
   "metadata": {
    "execution": {
     "iopub.execute_input": "2025-07-13T00:48:43.052876Z",
     "iopub.status.busy": "2025-07-13T00:48:43.052153Z",
     "iopub.status.idle": "2025-07-13T00:48:57.336117Z",
     "shell.execute_reply": "2025-07-13T00:48:57.335469Z",
     "shell.execute_reply.started": "2025-07-13T00:48:43.052849Z"
    },
    "trusted": true
   },
   "outputs": [
    {
     "name": "stdout",
     "output_type": "stream",
     "text": [
      "\u001b[1m2859/2859\u001b[0m \u001b[32m━━━━━━━━━━━━━━━━━━━━\u001b[0m\u001b[37m\u001b[0m \u001b[1m5s\u001b[0m 2ms/step\n",
      "confusion matrix with 0.4114 is \n",
      "[[26079  6726]\n",
      " [ 1519 11405]]\n",
      "\u001b[1m2859/2859\u001b[0m \u001b[32m━━━━━━━━━━━━━━━━━━━━\u001b[0m\u001b[37m\u001b[0m \u001b[1m5s\u001b[0m 2ms/step\n",
      "confusion matrix with 0.4885 is \n",
      "[[28147  4658]\n",
      " [ 2559 10365]]\n"
     ]
    }
   ],
   "source": [
    "print(f\"confusion matrix with 0.4114 is \\n{plot_confusion(X_test,0.4114)}\")\n",
    "print(f\"confusion matrix with 0.4885 is \\n{plot_confusion(X_test,0.4885)}\")"
   ]
  },
  {
   "cell_type": "markdown",
   "id": "287a2b20-ad58-45e3-ada7-6237e002ea79",
   "metadata": {},
   "source": [
    "We get slightly different results, using the folowing formulas we can compute all the metrics\n",
    " \n",
    "$$\\text{Precision} = \\frac{TP}{TP + FP}$$\n",
    "\n",
    "$$\\text{Recall} = \\frac{TP}{TP + FN}$$\n",
    "\n",
    "$$\\text{F1} = \\frac{2TP}{2TP + FP + FN}$$\n",
    "$$\\text{Accuracy} = \\frac{TP + TN}{TP + TN + FP + FN}$$"
   ]
  },
  {
   "cell_type": "code",
   "execution_count": 86,
   "id": "8fd5e8c7-d734-4402-9787-c4dfd6beb76b",
   "metadata": {
    "execution": {
     "iopub.execute_input": "2025-07-13T00:56:09.602465Z",
     "iopub.status.busy": "2025-07-13T00:56:09.602076Z",
     "iopub.status.idle": "2025-07-13T00:56:09.623847Z",
     "shell.execute_reply": "2025-07-13T00:56:09.623277Z",
     "shell.execute_reply.started": "2025-07-13T00:56:09.602444Z"
    },
    "trusted": true
   },
   "outputs": [
    {
     "data": {
      "text/html": [
       "<div>\n",
       "<style scoped>\n",
       "    .dataframe tbody tr th:only-of-type {\n",
       "        vertical-align: middle;\n",
       "    }\n",
       "\n",
       "    .dataframe tbody tr th {\n",
       "        vertical-align: top;\n",
       "    }\n",
       "\n",
       "    .dataframe thead th {\n",
       "        text-align: right;\n",
       "    }\n",
       "</style>\n",
       "<table border=\"1\" class=\"dataframe\">\n",
       "  <thead>\n",
       "    <tr style=\"text-align: right;\">\n",
       "      <th></th>\n",
       "      <th>Precision</th>\n",
       "      <th>Recall</th>\n",
       "      <th>F1 Score</th>\n",
       "      <th>Accuracy</th>\n",
       "      <th>False Positives</th>\n",
       "      <th>False Negatives</th>\n",
       "    </tr>\n",
       "    <tr>\n",
       "      <th>Threshold</th>\n",
       "      <th></th>\n",
       "      <th></th>\n",
       "      <th></th>\n",
       "      <th></th>\n",
       "      <th></th>\n",
       "      <th></th>\n",
       "    </tr>\n",
       "  </thead>\n",
       "  <tbody>\n",
       "    <tr>\n",
       "      <th>0.4114 (ROC-Youden)</th>\n",
       "      <td>0.6288</td>\n",
       "      <td>0.8824</td>\n",
       "      <td>0.7344</td>\n",
       "      <td>0.8190</td>\n",
       "      <td>6726</td>\n",
       "      <td>1519</td>\n",
       "    </tr>\n",
       "    <tr>\n",
       "      <th>0.4885 (F1-optimal)</th>\n",
       "      <td>0.6901</td>\n",
       "      <td>0.8021</td>\n",
       "      <td>0.7419</td>\n",
       "      <td>0.8433</td>\n",
       "      <td>4658</td>\n",
       "      <td>2559</td>\n",
       "    </tr>\n",
       "  </tbody>\n",
       "</table>\n",
       "</div>"
      ],
      "text/plain": [
       "                     Precision  Recall  F1 Score  Accuracy  False Positives  \\\n",
       "Threshold                                                                     \n",
       "0.4114 (ROC-Youden)     0.6288  0.8824    0.7344    0.8190             6726   \n",
       "0.4885 (F1-optimal)     0.6901  0.8021    0.7419    0.8433             4658   \n",
       "\n",
       "                     False Negatives  \n",
       "Threshold                             \n",
       "0.4114 (ROC-Youden)             1519  \n",
       "0.4885 (F1-optimal)             2559  "
      ]
     },
     "metadata": {},
     "output_type": "display_data"
    }
   ],
   "source": [
    "data = {\n",
    "    'Threshold': ['0.4114 (ROC-Youden)', '0.4885 (F1-optimal)'],\n",
    "    'Precision': [0.6288, 0.6901],\n",
    "    'Recall': [0.8824, 0.8021],\n",
    "    'F1 Score': [0.7344, 0.7419],\n",
    "    'Accuracy': [0.819, 0.8433],\n",
    "    'False Positives': [6726, 4658],\n",
    "    'False Negatives': [1519, 2559]\n",
    "}\n",
    "\n",
    "df = pd.DataFrame(data)\n",
    "df.set_index('Threshold', inplace=True)\n",
    "display(df)"
   ]
  },
  {
   "cell_type": "markdown",
   "id": "69864079-eaca-4ed2-b9c2-925bb77a1fde",
   "metadata": {},
   "source": [
    "**Interpretation:**\n",
    "\n",
    "The ROC-based threshold (0.4114) achieves higher recall, which is desirable in medical contexts where missing a positive case is dangerous.\n",
    "\n",
    "The F1-optimal threshold (0.4885) offers a better balance of precision and recall, leading to a higher F1 score and accuracy overall.\n",
    "\n",
    "False positives are significantly reduced with the F1-optimal threshold, making predictions more trustworthy in real-world settings.\n",
    "\n",
    "We chose to favor the F1-optimal threshold as it maintains strong recall while improving precision and reducing false alarms, offering a robust trade-off for practical deployment."
   ]
  },
  {
   "cell_type": "markdown",
   "id": "a7e80e01",
   "metadata": {},
   "source": [
    "---\n",
    "\n",
    "## Conclusion\n",
    "\n",
    "This project successfully demonstrates the design and training of a custom CNN to classify Invasive Ductal Carcinoma (IDC) from breast histopathology images, achieving strong performance metrics including an AUC of 0.90 and balanced precision and recall. The model provides a solid foundation for further exploration and potential clinical application.\n",
    "\n",
    "## Next Steps\n",
    "\n",
    "- Implement Grad-CAM visualizations for model explainability  \n",
    "- Experiment with more advanced CNN architectures (e.g., EfficientNet)  \n",
    "- Develop a user-friendly interface or deploy the model as a web app  \n",
    "\n",
    "---\n",
    "\n",
    "*Thank you for reviewing my work! Feel free to reach out for questions, feedback, or collaboration.*\n",
    "\n"
   ]
  }
 ],
 "metadata": {
  "accelerator": "GPU",
  "colab": {
   "gpuType": "T4",
   "include_colab_link": true,
   "provenance": []
  },
  "kaggle": {
   "accelerator": "gpu",
   "dataSources": [
    {
     "datasetId": 7850284,
     "sourceId": 12444902,
     "sourceType": "datasetVersion"
    },
    {
     "isSourceIdPinned": true,
     "modelId": 398934,
     "modelInstanceId": 378841,
     "sourceId": 469582,
     "sourceType": "modelInstanceVersion"
    }
   ],
   "dockerImageVersionId": 31089,
   "isGpuEnabled": true,
   "isInternetEnabled": true,
   "language": "python",
   "sourceType": "notebook"
  },
  "kernelspec": {
   "display_name": "Python 3",
   "language": "python",
   "name": "python3"
  },
  "language_info": {
   "codemirror_mode": {
    "name": "ipython",
    "version": 3
   },
   "file_extension": ".py",
   "mimetype": "text/x-python",
   "name": "python",
   "nbconvert_exporter": "python",
   "pygments_lexer": "ipython3",
   "version": "3.12.10"
  }
 },
 "nbformat": 4,
 "nbformat_minor": 5
}
