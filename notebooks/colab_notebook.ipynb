{
  "cells": [
    {
      "cell_type": "markdown",
      "metadata": {
        "id": "view-in-github",
        "colab_type": "text"
      },
      "source": [
        "<a href=\"https://colab.research.google.com/github/Juba-Amr/breast-cancer-CNN/blob/main/notebooks/colab_notebook.ipynb\" target=\"_parent\"><img src=\"https://colab.research.google.com/assets/colab-badge.svg\" alt=\"Open In Colab\"/></a>"
      ]
    },
    {
      "cell_type": "code",
      "source": [
        "#imports\n",
        "import os\n",
        "import numpy as np\n",
        "import pandas as pd\n",
        "import matplotlib.pyplot as plt\n",
        "import tensorflow as tf\n",
        "from tensorflow.keras import layers\n",
        "from tensorflow.keras.preprocessing import image_dataset_from_directory"
      ],
      "metadata": {
        "id": "_fb0iuyz7Sqq"
      },
      "id": "_fb0iuyz7Sqq",
      "execution_count": 44,
      "outputs": []
    },
    {
      "cell_type": "code",
      "source": [
        "#paths\n",
        "train_path= '/content/dataset/train'\n",
        "val_path= '/content/dataset/validation'\n",
        "test_path= '/content/dataset/test'"
      ],
      "metadata": {
        "id": "AEWhsQTN67Un"
      },
      "id": "AEWhsQTN67Un",
      "execution_count": 43,
      "outputs": []
    },
    {
      "cell_type": "code",
      "source": [
        "#for reproducability\n",
        "def set_seed(seed=42):\n",
        "    np.random.seed(seed)\n",
        "    tf.random.set_seed(seed)\n",
        "    os.environ['PYTHONHASHSEED'] = str(seed)\n",
        "    os.environ['TF_DETERMINISTIC_OPS'] = '1'\n",
        "set_seed()\n",
        "\n",
        "X_train = image_dataset_from_directory(\n",
        "    train_path,\n",
        "    labels='inferred',\n",
        "    label_mode='binary',\n",
        "    color_mode='rgb',\n",
        "    batch_size=None,\n",
        "    image_size=(50,50),\n",
        "    shuffle=True,\n",
        "    interpolation='nearest'\n",
        ")\n",
        "\n",
        "X_val = image_dataset_from_directory(\n",
        "    val_path,\n",
        "    labels='inferred',\n",
        "    label_mode='binary',\n",
        "    color_mode='rgb',\n",
        "    batch_size=None,\n",
        "    image_size=(50,50),\n",
        "    shuffle=True,\n",
        "    interpolation='nearest'\n",
        ")\n",
        "\n",
        "AUTOTUNE = tf.data.experimental.AUTOTUNE\n",
        "def preprocess(image, label):\n",
        "    image = tf.image.convert_image_dtype(image, tf.float32) #we normalize the tensors to have them in the interval [0,1]\n",
        "    return image, label\n",
        "\n",
        "data_augmentation = tf.keras.Sequential([\n",
        "    layers.RandomFlip(mode='horizontal_and_vertical'),\n",
        "    layers.RandomRotation(factor=(-0.3, 0.3)),\n",
        "]) #we don't alter the colors because on a former try it used to give very optimistic results on training set and poor ones in test\n",
        "\n",
        "def augmentation(image, label):\n",
        "    return (data_augmentation(image), label)\n"
      ],
      "metadata": {
        "id": "dZ3rBdxi7N4q",
        "outputId": "bd1cb78c-923c-4ef2-f7a2-a4d673d499c6",
        "colab": {
          "base_uri": "https://localhost:8080/"
        }
      },
      "id": "dZ3rBdxi7N4q",
      "execution_count": 54,
      "outputs": [
        {
          "output_type": "stream",
          "name": "stdout",
          "text": [
            "Found 193299 files belonging to 2 classes.\n",
            "Found 38496 files belonging to 2 classes.\n"
          ]
        }
      ]
    },
    {
      "cell_type": "code",
      "source": [
        "print(tf.data.experimental.cardinality(X_train).numpy())\n",
        "print(tf.data.experimental.cardinality(X_val).numpy())\n",
        "\n",
        "X_train = (\n",
        "    X_train\n",
        "    .map(preprocess, num_parallel_calls=AUTOTUNE, deterministic=True)\n",
        "    .map(augmentation , num_parallel_calls=AUTOTUNE, deterministic=True)\n",
        "    .shuffle(buffer_size=1000)\n",
        "    .batch(16)\n",
        "    .cache()\n",
        "    .prefetch(buffer_size=AUTOTUNE)\n",
        ")\n",
        "X_val = (\n",
        "    X_val\n",
        "    .map(preprocess, num_parallel_calls=AUTOTUNE, deterministic=True)\n",
        "    .batch(16)\n",
        "    .cache()\n",
        "    .prefetch(buffer_size=AUTOTUNE)\n",
        ")\n",
        "\n",
        "print(tf.data.experimental.cardinality(X_train).numpy())\n",
        "print(tf.data.experimental.cardinality(X_val).numpy())\n"
      ],
      "metadata": {
        "id": "V32B31Ay7d3d",
        "outputId": "144d972d-76a5-4df4-86c1-06d93ec2cb10",
        "colab": {
          "base_uri": "https://localhost:8080/"
        }
      },
      "id": "V32B31Ay7d3d",
      "execution_count": 55,
      "outputs": [
        {
          "output_type": "stream",
          "name": "stdout",
          "text": [
            "193299\n",
            "38496\n",
            "12082\n",
            "2406\n"
          ]
        }
      ]
    },
    {
      "cell_type": "code",
      "source": [
        "feature_extraction = [\n",
        "        #input layer will be size 50x50x3\n",
        "        layers.Conv2D(filters=32, kernel_size=(3,3), strides=1, padding='same', use_bias=False), #50x50x32 for base filters\n",
        "        layers.BatchNormalization(),\n",
        "        layers.Activation('relu'),\n",
        "        layers.MaxPool2D(pool_size=(2,2), strides=None, padding='valid'), #25x25x32\n",
        "\n",
        "        layers.Conv2D(filters=64, kernel_size=(3,3), use_bias=False), #25x25x64\n",
        "        layers.BatchNormalization(),\n",
        "        layers.Activation('relu'),\n",
        "        layers.MaxPool2D(pool_size=(2,2), strides=None, padding='valid'), #12x12x64\n",
        "\n",
        "        layers.Conv2D(filters=128, kernel_size=(3,3), use_bias=False), #12x12x128\n",
        "        layers.BatchNormalization(),\n",
        "        layers.Activation('relu'),\n",
        "        layers.MaxPool2D(pool_size=(2,2), strides=None, padding='valid'), #6x6x128\n",
        "\n",
        "        layers.GlobalAveragePooling2D()\n",
        "    ]\n",
        "\n",
        "model_body = [\n",
        "        layers.Dense(units=64, input_shape=[4608], kernel_regularizer='l2'),\n",
        "        layers.BatchNormalization(),\n",
        "        layers.Activation('relu'),\n",
        "        layers.Dropout(0.5),\n",
        "\n",
        "        layers.Dense(units=64, kernel_regularizer='l2'),\n",
        "        layers.BatchNormalization(),\n",
        "        layers.Activation('relu'),\n",
        "        layers.Dropout(0.5),\n",
        "\n",
        "        layers.Dense(units=64, kernel_regularizer='l2'),\n",
        "        layers.BatchNormalization(),\n",
        "        layers.Activation('relu'),\n",
        "        layers.Dropout(0.5),\n",
        "\n",
        "        layers.Dense(units=1, activation='sigmoid')\n",
        "    ]\n"
      ],
      "metadata": {
        "id": "wLPn37fX8G8R",
        "outputId": "85651fac-cbd3-4574-fa0d-8cda7ba14bc7",
        "colab": {
          "base_uri": "https://localhost:8080/"
        }
      },
      "id": "wLPn37fX8G8R",
      "execution_count": 56,
      "outputs": [
        {
          "output_type": "stream",
          "name": "stderr",
          "text": [
            "/usr/local/lib/python3.11/dist-packages/keras/src/layers/core/dense.py:87: UserWarning: Do not pass an `input_shape`/`input_dim` argument to a layer. When using Sequential models, prefer using an `Input(shape)` object as the first layer in the model instead.\n",
            "  super().__init__(activity_regularizer=activity_regularizer, **kwargs)\n"
          ]
        }
      ]
    },
    {
      "cell_type": "code",
      "source": [
        "model = tf.keras.Sequential([\n",
        "    *feature_extraction,\n",
        "    *model_body\n",
        "])\n",
        "\n",
        "model.compile(\n",
        "    optimizer='adam',\n",
        "    loss=tf.keras.losses.BinaryFocalCrossentropy(gamma=2.0, from_logits=False),\n",
        "    metrics=['binary_accuracy',\n",
        "            tf.keras.metrics.Recall(name='recall'),\n",
        "            tf.keras.metrics.Precision(name='precision'),\n",
        "            tf.keras.metrics.AUC(name='auc')\n",
        "        ]\n",
        ")\n",
        "\n",
        "\n",
        "early_stopping = tf.keras.callbacks.EarlyStopping(\n",
        "    monitor= \"val_loss\",\n",
        "    min_delta= 0.001,\n",
        "    patience= 5,\n",
        "    mode='min',\n",
        "    restore_best_weights=True,\n",
        "    start_from_epoch=10\n",
        ")\n",
        "\n",
        "!mkdir -p \"../model/model4/checkpoints\"\n",
        "checkpoint = tf.keras.callbacks.ModelCheckpoint(\n",
        "    \"../model/model4/checkpoints/{epoch:02d}-{val_loss:.2f}.keras\",\n",
        "    monitor='val_loss',\n",
        "    verbose=1,\n",
        "    save_best_only=False,\n",
        "    save_weights_only=False,\n",
        "    save_freq='epoch'\n",
        ")\n",
        "\n",
        "reduce_lr =tf.keras.callbacks.ReduceLROnPlateau(\n",
        "    monitor=\"val_loss\", factor=0.5, patience=3, min_lr=1e-6, verbose=1\n",
        ")"
      ],
      "metadata": {
        "id": "E_afponC8Kfh"
      },
      "id": "E_afponC8Kfh",
      "execution_count": 57,
      "outputs": []
    },
    {
      "cell_type": "code",
      "source": [
        "history = model.fit(\n",
        "    X_train,\n",
        "    epochs=60,\n",
        "    verbose=1,\n",
        "    callbacks=[early_stopping, checkpoint, reduce_lr],\n",
        "    validation_split=0,\n",
        "    validation_data=X_val,\n",
        "    validation_steps=None,\n",
        "    class_weight={0:1.0, 1:4.2},\n",
        "    validation_freq=1\n",
        ")\n",
        "\n",
        "model.save(\"../model/model4/model.keras\")"
      ],
      "metadata": {
        "id": "o5y_GT_n8VJK"
      },
      "id": "o5y_GT_n8VJK",
      "execution_count": null,
      "outputs": []
    }
  ],
  "metadata": {
    "kernelspec": {
      "display_name": "Python 3",
      "language": "python",
      "name": "python3"
    },
    "language_info": {
      "codemirror_mode": {
        "name": "ipython",
        "version": 3
      },
      "file_extension": ".py",
      "mimetype": "text/x-python",
      "name": "python",
      "nbconvert_exporter": "python",
      "pygments_lexer": "ipython3",
      "version": "3.12.0"
    },
    "colab": {
      "provenance": [],
      "include_colab_link": true
    }
  },
  "nbformat": 4,
  "nbformat_minor": 5
}