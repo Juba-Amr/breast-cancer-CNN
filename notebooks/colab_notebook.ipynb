{
  "cells": [
    {
      "cell_type": "markdown",
      "metadata": {
        "id": "view-in-github",
        "colab_type": "text"
      },
      "source": [
        "<a href=\"https://colab.research.google.com/github/Juba-Amr/breast-cancer-CNN/blob/main/notebooks/colab_notebook.ipynb\" target=\"_parent\"><img src=\"https://colab.research.google.com/assets/colab-badge.svg\" alt=\"Open In Colab\"/></a>"
      ]
    },
    {
      "cell_type": "code",
      "source": [
        "#imports\n",
        "import os\n",
        "import numpy as np\n",
        "import pandas as pd\n",
        "import matplotlib.pyplot as plt\n",
        "import tensorflow as tf\n",
        "from tensorflow.keras import layers\n",
        "from tensorflow.keras.preprocessing import image_dataset_from_directory"
      ],
      "metadata": {
        "id": "_fb0iuyz7Sqq"
      },
      "id": "_fb0iuyz7Sqq",
      "execution_count": null,
      "outputs": []
    },
    {
      "cell_type": "code",
      "source": [
        "#paths\n",
        "train_path= '/content/dataset/train'\n",
        "val_path= '/content/dataset/validation'\n",
        "test_path= '/content/dataset/test'"
      ],
      "metadata": {
        "id": "AEWhsQTN67Un"
      },
      "id": "AEWhsQTN67Un",
      "execution_count": null,
      "outputs": []
    },
    {
      "cell_type": "code",
      "source": [
        "#for reproducability\n",
        "def set_seed(seed=42):\n",
        "    np.random.seed(seed)\n",
        "    tf.random.set_seed(seed)\n",
        "    os.environ['PYTHONHASHSEED'] = str(seed)\n",
        "    os.environ['TF_DETERMINISTIC_OPS'] = '1'\n",
        "set_seed()\n",
        "\n",
        "X_train = image_dataset_from_directory(\n",
        "    train_path,\n",
        "    labels='inferred',\n",
        "    label_mode='binary',\n",
        "    color_mode='rgb',\n",
        "    batch_size=None,\n",
        "    image_size=(50,50),\n",
        "    shuffle=True,\n",
        "    interpolation='nearest'\n",
        ")\n",
        "\n",
        "X_val = image_dataset_from_directory(\n",
        "    val_path,\n",
        "    labels='inferred',\n",
        "    label_mode='binary',\n",
        "    color_mode='rgb',\n",
        "    batch_size=None,\n",
        "    image_size=(50,50),\n",
        "    shuffle=True,\n",
        "    interpolation='nearest'\n",
        ")\n",
        "\n",
        "AUTOTUNE = tf.data.experimental.AUTOTUNE\n",
        "def preprocess(image, label):\n",
        "    image = tf.image.convert_image_dtype(image, tf.float32) #we normalize the tensors to have them in the interval [0,1]\n",
        "    return image, label\n",
        "\n",
        "data_augmentation = tf.keras.Sequential([\n",
        "    layers.RandomFlip(mode='horizontal_and_vertical'),\n",
        "    layers.RandomRotation(factor=(-0.3, 0.3)),\n",
        "]) #we don't alter the colors because on a former try it used to give very optimistic results on training set and poor ones in test\n",
        "\n",
        "def augmentation(image, label):\n",
        "    return (data_augmentation(image), label)\n"
      ],
      "metadata": {
        "id": "dZ3rBdxi7N4q",
        "outputId": "bd1cb78c-923c-4ef2-f7a2-a4d673d499c6",
        "colab": {
          "base_uri": "https://localhost:8080/"
        }
      },
      "id": "dZ3rBdxi7N4q",
      "execution_count": null,
      "outputs": [
        {
          "output_type": "stream",
          "name": "stdout",
          "text": [
            "Found 193299 files belonging to 2 classes.\n",
            "Found 38496 files belonging to 2 classes.\n"
          ]
        }
      ]
    },
    {
      "cell_type": "code",
      "source": [
        "print(tf.data.experimental.cardinality(X_train).numpy())\n",
        "print(tf.data.experimental.cardinality(X_val).numpy())\n",
        "\n",
        "X_train = (\n",
        "    X_train\n",
        "    .map(preprocess, num_parallel_calls=AUTOTUNE, deterministic=True)\n",
        "    .map(augmentation , num_parallel_calls=AUTOTUNE, deterministic=True)\n",
        "    .shuffle(buffer_size=1000)\n",
        "    .batch(16)\n",
        "    .cache()\n",
        "    .prefetch(buffer_size=AUTOTUNE)\n",
        ")\n",
        "X_val = (\n",
        "    X_val\n",
        "    .map(preprocess, num_parallel_calls=AUTOTUNE, deterministic=True)\n",
        "    .batch(16)\n",
        "    .cache()\n",
        "    .prefetch(buffer_size=AUTOTUNE)\n",
        ")\n",
        "\n",
        "print(tf.data.experimental.cardinality(X_train).numpy())\n",
        "print(tf.data.experimental.cardinality(X_val).numpy())\n"
      ],
      "metadata": {
        "id": "V32B31Ay7d3d",
        "outputId": "144d972d-76a5-4df4-86c1-06d93ec2cb10",
        "colab": {
          "base_uri": "https://localhost:8080/"
        }
      },
      "id": "V32B31Ay7d3d",
      "execution_count": null,
      "outputs": [
        {
          "output_type": "stream",
          "name": "stdout",
          "text": [
            "193299\n",
            "38496\n",
            "12082\n",
            "2406\n"
          ]
        }
      ]
    },
    {
      "cell_type": "code",
      "source": [
        "feature_extraction = [\n",
        "        #input layer will be size 50x50x3\n",
        "        layers.Conv2D(filters=32, kernel_size=(3,3), strides=1, padding='same', use_bias=False), #50x50x32 for base filters\n",
        "        layers.BatchNormalization(),\n",
        "        layers.Activation('relu'),\n",
        "        layers.MaxPool2D(pool_size=(2,2), strides=None, padding='valid'), #25x25x32\n",
        "\n",
        "        layers.Conv2D(filters=64, kernel_size=(3,3), use_bias=False), #25x25x64\n",
        "        layers.BatchNormalization(),\n",
        "        layers.Activation('relu'),\n",
        "        layers.MaxPool2D(pool_size=(2,2), strides=None, padding='valid'), #12x12x64\n",
        "\n",
        "        layers.Conv2D(filters=128, kernel_size=(3,3), use_bias=False), #12x12x128\n",
        "        layers.BatchNormalization(),\n",
        "        layers.Activation('relu'),\n",
        "        layers.MaxPool2D(pool_size=(2,2), strides=None, padding='valid'), #6x6x128\n",
        "\n",
        "        layers.GlobalAveragePooling2D()\n",
        "    ]\n",
        "\n",
        "model_body = [\n",
        "        layers.Dense(units=64, input_shape=[4608], kernel_regularizer='l2'),\n",
        "        layers.BatchNormalization(),\n",
        "        layers.Activation('relu'),\n",
        "        layers.Dropout(0.5),\n",
        "\n",
        "        layers.Dense(units=64, kernel_regularizer='l2'),\n",
        "        layers.BatchNormalization(),\n",
        "        layers.Activation('relu'),\n",
        "        layers.Dropout(0.5),\n",
        "\n",
        "        layers.Dense(units=64, kernel_regularizer='l2'),\n",
        "        layers.BatchNormalization(),\n",
        "        layers.Activation('relu'),\n",
        "        layers.Dropout(0.5),\n",
        "\n",
        "        layers.Dense(units=1, activation='sigmoid')\n",
        "    ]\n"
      ],
      "metadata": {
        "id": "wLPn37fX8G8R",
        "outputId": "85651fac-cbd3-4574-fa0d-8cda7ba14bc7",
        "colab": {
          "base_uri": "https://localhost:8080/"
        }
      },
      "id": "wLPn37fX8G8R",
      "execution_count": null,
      "outputs": [
        {
          "output_type": "stream",
          "name": "stderr",
          "text": [
            "/usr/local/lib/python3.11/dist-packages/keras/src/layers/core/dense.py:87: UserWarning: Do not pass an `input_shape`/`input_dim` argument to a layer. When using Sequential models, prefer using an `Input(shape)` object as the first layer in the model instead.\n",
            "  super().__init__(activity_regularizer=activity_regularizer, **kwargs)\n"
          ]
        }
      ]
    },
    {
      "cell_type": "code",
      "source": [
        "model = tf.keras.Sequential([\n",
        "    *feature_extraction,\n",
        "    *model_body\n",
        "])\n",
        "\n",
        "model.compile(\n",
        "    optimizer='adam',\n",
        "    loss=tf.keras.losses.BinaryFocalCrossentropy(gamma=2.0, from_logits=False),\n",
        "    metrics=['binary_accuracy',\n",
        "            tf.keras.metrics.Recall(name='recall'),\n",
        "            tf.keras.metrics.Precision(name='precision'),\n",
        "            tf.keras.metrics.AUC(name='auc')\n",
        "        ]\n",
        ")\n",
        "\n",
        "\n",
        "early_stopping = tf.keras.callbacks.EarlyStopping(\n",
        "    monitor= \"val_loss\",\n",
        "    min_delta= 0.001,\n",
        "    patience= 5,\n",
        "    mode='min',\n",
        "    restore_best_weights=True,\n",
        "    start_from_epoch=10\n",
        ")\n",
        "\n",
        "!mkdir -p \"../model/model4/checkpoints\"\n",
        "checkpoint = tf.keras.callbacks.ModelCheckpoint(\n",
        "    \"../model/model4/checkpoints/{epoch:02d}-{val_loss:.2f}.keras\",\n",
        "    monitor='val_loss',\n",
        "    verbose=1,\n",
        "    save_best_only=False,\n",
        "    save_weights_only=False,\n",
        "    save_freq='epoch'\n",
        ")\n",
        "\n",
        "reduce_lr =tf.keras.callbacks.ReduceLROnPlateau(\n",
        "    monitor=\"val_loss\", factor=0.5, patience=3, min_lr=1e-6, verbose=1\n",
        ")"
      ],
      "metadata": {
        "id": "E_afponC8Kfh"
      },
      "id": "E_afponC8Kfh",
      "execution_count": null,
      "outputs": []
    },
    {
      "cell_type": "code",
      "source": [
        "history = model.fit(\n",
        "    X_train,\n",
        "    epochs=60,\n",
        "    verbose=1,\n",
        "    callbacks=[early_stopping, checkpoint, reduce_lr],\n",
        "    validation_split=0,\n",
        "    validation_data=X_val,\n",
        "    validation_steps=None,\n",
        "    class_weight={0:1.0, 1:4.2},\n",
        "    validation_freq=1\n",
        ")\n",
        "\n",
        "model.save(\"../model/model4/model.keras\")"
      ],
      "metadata": {
        "id": "o5y_GT_n8VJK",
        "outputId": "b0a07552-7e2d-4ef9-f0b8-c2d6c12857a5",
        "colab": {
          "base_uri": "https://localhost:8080/"
        }
      },
      "id": "o5y_GT_n8VJK",
      "execution_count": null,
      "outputs": [
        {
          "output_type": "stream",
          "name": "stdout",
          "text": [
            "Epoch 1/60\n",
            "\u001b[1m12082/12082\u001b[0m \u001b[32m━━━━━━━━━━━━━━━━━━━━\u001b[0m\u001b[37m\u001b[0m \u001b[1m0s\u001b[0m 43ms/step - auc: 0.8288 - binary_accuracy: 0.7235 - loss: 0.6608 - precision: 0.5027 - recall: 0.8334\n",
            "Epoch 1: saving model to ../model/model4/checkpoints/01-0.14.keras\n",
            "\u001b[1m12082/12082\u001b[0m \u001b[32m━━━━━━━━━━━━━━━━━━━━\u001b[0m\u001b[37m\u001b[0m \u001b[1m580s\u001b[0m 47ms/step - auc: 0.8288 - binary_accuracy: 0.7235 - loss: 0.6608 - precision: 0.5027 - recall: 0.8334 - val_auc: 0.8898 - val_binary_accuracy: 0.8248 - val_loss: 0.1412 - val_precision: 0.7581 - val_recall: 0.6707 - learning_rate: 0.0010\n",
            "Epoch 2/60\n",
            "\u001b[1m12079/12082\u001b[0m \u001b[32m━━━━━━━━━━━━━━━━━━━\u001b[0m\u001b[37m━\u001b[0m \u001b[1m0s\u001b[0m 16ms/step - auc: 0.8928 - binary_accuracy: 0.7852 - loss: 0.2227 - precision: 0.5724 - recall: 0.8810\n",
            "Epoch 2: saving model to ../model/model4/checkpoints/02-0.14.keras\n",
            "\u001b[1m12082/12082\u001b[0m \u001b[32m━━━━━━━━━━━━━━━━━━━━\u001b[0m\u001b[37m\u001b[0m \u001b[1m249s\u001b[0m 17ms/step - auc: 0.8928 - binary_accuracy: 0.7852 - loss: 0.2227 - precision: 0.5724 - recall: 0.8810 - val_auc: 0.8833 - val_binary_accuracy: 0.8063 - val_loss: 0.1387 - val_precision: 0.6580 - val_recall: 0.8313 - learning_rate: 0.0010\n",
            "Epoch 3/60\n",
            "\u001b[1m12079/12082\u001b[0m \u001b[32m━━━━━━━━━━━━━━━━━━━\u001b[0m\u001b[37m━\u001b[0m \u001b[1m0s\u001b[0m 16ms/step - auc: 0.9008 - binary_accuracy: 0.8000 - loss: 0.2133 - precision: 0.5922 - recall: 0.8881\n",
            "Epoch 3: saving model to ../model/model4/checkpoints/03-0.13.keras\n",
            "\u001b[1m12082/12082\u001b[0m \u001b[32m━━━━━━━━━━━━━━━━━━━━\u001b[0m\u001b[37m\u001b[0m \u001b[1m201s\u001b[0m 17ms/step - auc: 0.9008 - binary_accuracy: 0.8000 - loss: 0.2133 - precision: 0.5922 - recall: 0.8881 - val_auc: 0.8864 - val_binary_accuracy: 0.8276 - val_loss: 0.1293 - val_precision: 0.7113 - val_recall: 0.7832 - learning_rate: 0.0010\n",
            "Epoch 4/60\n",
            "\u001b[1m12079/12082\u001b[0m \u001b[32m━━━━━━━━━━━━━━━━━━━\u001b[0m\u001b[37m━\u001b[0m \u001b[1m0s\u001b[0m 16ms/step - auc: 0.9058 - binary_accuracy: 0.8049 - loss: 0.2077 - precision: 0.5985 - recall: 0.8936\n",
            "Epoch 4: saving model to ../model/model4/checkpoints/04-0.13.keras\n",
            "\u001b[1m12082/12082\u001b[0m \u001b[32m━━━━━━━━━━━━━━━━━━━━\u001b[0m\u001b[37m\u001b[0m \u001b[1m203s\u001b[0m 17ms/step - auc: 0.9058 - binary_accuracy: 0.8049 - loss: 0.2077 - precision: 0.5985 - recall: 0.8936 - val_auc: 0.8790 - val_binary_accuracy: 0.8387 - val_loss: 0.1266 - val_precision: 0.7730 - val_recall: 0.7073 - learning_rate: 0.0010\n",
            "Epoch 5/60\n",
            "\u001b[1m12079/12082\u001b[0m \u001b[32m━━━━━━━━━━━━━━━━━━━\u001b[0m\u001b[37m━\u001b[0m \u001b[1m0s\u001b[0m 16ms/step - auc: 0.9091 - binary_accuracy: 0.8087 - loss: 0.2042 - precision: 0.6039 - recall: 0.8950\n",
            "Epoch 5: saving model to ../model/model4/checkpoints/05-0.15.keras\n",
            "\u001b[1m12082/12082\u001b[0m \u001b[32m━━━━━━━━━━━━━━━━━━━━\u001b[0m\u001b[37m\u001b[0m \u001b[1m201s\u001b[0m 17ms/step - auc: 0.9091 - binary_accuracy: 0.8087 - loss: 0.2042 - precision: 0.6039 - recall: 0.8950 - val_auc: 0.8677 - val_binary_accuracy: 0.7968 - val_loss: 0.1542 - val_precision: 0.8094 - val_recall: 0.4840 - learning_rate: 0.0010\n",
            "Epoch 6/60\n",
            "\u001b[1m12079/12082\u001b[0m \u001b[32m━━━━━━━━━━━━━━━━━━━\u001b[0m\u001b[37m━\u001b[0m \u001b[1m0s\u001b[0m 16ms/step - auc: 0.9114 - binary_accuracy: 0.8121 - loss: 0.2020 - precision: 0.6087 - recall: 0.8964\n",
            "Epoch 6: saving model to ../model/model4/checkpoints/06-0.14.keras\n",
            "\u001b[1m12082/12082\u001b[0m \u001b[32m━━━━━━━━━━━━━━━━━━━━\u001b[0m\u001b[37m\u001b[0m \u001b[1m203s\u001b[0m 17ms/step - auc: 0.9114 - binary_accuracy: 0.8121 - loss: 0.2020 - precision: 0.6087 - recall: 0.8964 - val_auc: 0.8865 - val_binary_accuracy: 0.8329 - val_loss: 0.1442 - val_precision: 0.7875 - val_recall: 0.6600 - learning_rate: 0.0010\n",
            "Epoch 7/60\n",
            "\u001b[1m12082/12082\u001b[0m \u001b[32m━━━━━━━━━━━━━━━━━━━━\u001b[0m\u001b[37m\u001b[0m \u001b[1m0s\u001b[0m 16ms/step - auc: 0.9130 - binary_accuracy: 0.8132 - loss: 0.1991 - precision: 0.6103 - recall: 0.8975\n",
            "Epoch 7: saving model to ../model/model4/checkpoints/07-0.14.keras\n",
            "\n",
            "Epoch 7: ReduceLROnPlateau reducing learning rate to 0.0005000000237487257.\n",
            "\u001b[1m12082/12082\u001b[0m \u001b[32m━━━━━━━━━━━━━━━━━━━━\u001b[0m\u001b[37m\u001b[0m \u001b[1m202s\u001b[0m 17ms/step - auc: 0.9130 - binary_accuracy: 0.8132 - loss: 0.1991 - precision: 0.6103 - recall: 0.8975 - val_auc: 0.8862 - val_binary_accuracy: 0.8175 - val_loss: 0.1440 - val_precision: 0.8111 - val_recall: 0.5657 - learning_rate: 0.0010\n",
            "Epoch 8/60\n",
            "\u001b[1m12080/12082\u001b[0m \u001b[32m━━━━━━━━━━━━━━━━━━━\u001b[0m\u001b[37m━\u001b[0m \u001b[1m0s\u001b[0m 16ms/step - auc: 0.9203 - binary_accuracy: 0.8212 - loss: 0.1853 - precision: 0.6212 - recall: 0.9049\n",
            "Epoch 8: saving model to ../model/model4/checkpoints/08-0.12.keras\n",
            "\u001b[1m12082/12082\u001b[0m \u001b[32m━━━━━━━━━━━━━━━━━━━━\u001b[0m\u001b[37m\u001b[0m \u001b[1m261s\u001b[0m 17ms/step - auc: 0.9203 - binary_accuracy: 0.8212 - loss: 0.1853 - precision: 0.6212 - recall: 0.9049 - val_auc: 0.8984 - val_binary_accuracy: 0.8465 - val_loss: 0.1154 - val_precision: 0.7654 - val_recall: 0.7557 - learning_rate: 5.0000e-04\n",
            "Epoch 9/60\n",
            "\u001b[1m12082/12082\u001b[0m \u001b[32m━━━━━━━━━━━━━━━━━━━━\u001b[0m\u001b[37m\u001b[0m \u001b[1m0s\u001b[0m 16ms/step - auc: 0.9227 - binary_accuracy: 0.8256 - loss: 0.1816 - precision: 0.6282 - recall: 0.9043\n",
            "Epoch 9: saving model to ../model/model4/checkpoints/09-0.11.keras\n",
            "\u001b[1m12082/12082\u001b[0m \u001b[32m━━━━━━━━━━━━━━━━━━━━\u001b[0m\u001b[37m\u001b[0m \u001b[1m201s\u001b[0m 17ms/step - auc: 0.9227 - binary_accuracy: 0.8256 - loss: 0.1816 - precision: 0.6282 - recall: 0.9043 - val_auc: 0.8931 - val_binary_accuracy: 0.8425 - val_loss: 0.1132 - val_precision: 0.7896 - val_recall: 0.6973 - learning_rate: 5.0000e-04\n",
            "Epoch 10/60\n",
            "\u001b[1m12081/12082\u001b[0m \u001b[32m━━━━━━━━━━━━━━━━━━━\u001b[0m\u001b[37m━\u001b[0m \u001b[1m0s\u001b[0m 16ms/step - auc: 0.9237 - binary_accuracy: 0.8246 - loss: 0.1807 - precision: 0.6260 - recall: 0.9078\n",
            "Epoch 10: saving model to ../model/model4/checkpoints/10-0.14.keras\n",
            "\u001b[1m12082/12082\u001b[0m \u001b[32m━━━━━━━━━━━━━━━━━━━━\u001b[0m\u001b[37m\u001b[0m \u001b[1m202s\u001b[0m 17ms/step - auc: 0.9237 - binary_accuracy: 0.8246 - loss: 0.1807 - precision: 0.6260 - recall: 0.9078 - val_auc: 0.8818 - val_binary_accuracy: 0.8150 - val_loss: 0.1371 - val_precision: 0.8517 - val_recall: 0.5162 - learning_rate: 5.0000e-04\n",
            "Epoch 11/60\n",
            "\u001b[1m12079/12082\u001b[0m \u001b[32m━━━━━━━━━━━━━━━━━━━\u001b[0m\u001b[37m━\u001b[0m \u001b[1m0s\u001b[0m 16ms/step - auc: 0.9243 - binary_accuracy: 0.8243 - loss: 0.1800 - precision: 0.6253 - recall: 0.9099\n",
            "Epoch 11: saving model to ../model/model4/checkpoints/11-0.11.keras\n",
            "\u001b[1m12082/12082\u001b[0m \u001b[32m━━━━━━━━━━━━━━━━━━━━\u001b[0m\u001b[37m\u001b[0m \u001b[1m203s\u001b[0m 17ms/step - auc: 0.9243 - binary_accuracy: 0.8243 - loss: 0.1800 - precision: 0.6253 - recall: 0.9099 - val_auc: 0.9006 - val_binary_accuracy: 0.8440 - val_loss: 0.1147 - val_precision: 0.7354 - val_recall: 0.8062 - learning_rate: 5.0000e-04\n",
            "Epoch 12/60\n",
            "\u001b[1m12079/12082\u001b[0m \u001b[32m━━━━━━━━━━━━━━━━━━━\u001b[0m\u001b[37m━\u001b[0m \u001b[1m0s\u001b[0m 16ms/step - auc: 0.9262 - binary_accuracy: 0.8288 - loss: 0.1781 - precision: 0.6322 - recall: 0.9100\n",
            "Epoch 12: saving model to ../model/model4/checkpoints/12-0.11.keras\n",
            "\u001b[1m12082/12082\u001b[0m \u001b[32m━━━━━━━━━━━━━━━━━━━━\u001b[0m\u001b[37m\u001b[0m \u001b[1m202s\u001b[0m 17ms/step - auc: 0.9262 - binary_accuracy: 0.8288 - loss: 0.1781 - precision: 0.6322 - recall: 0.9100 - val_auc: 0.9022 - val_binary_accuracy: 0.8501 - val_loss: 0.1110 - val_precision: 0.7754 - val_recall: 0.7535 - learning_rate: 5.0000e-04\n",
            "Epoch 13/60\n",
            "\u001b[1m12080/12082\u001b[0m \u001b[32m━━━━━━━━━━━━━━━━━━━\u001b[0m\u001b[37m━\u001b[0m \u001b[1m0s\u001b[0m 16ms/step - auc: 0.9265 - binary_accuracy: 0.8267 - loss: 0.1775 - precision: 0.6284 - recall: 0.9128\n",
            "Epoch 13: saving model to ../model/model4/checkpoints/13-0.12.keras\n",
            "\u001b[1m12082/12082\u001b[0m \u001b[32m━━━━━━━━━━━━━━━━━━━━\u001b[0m\u001b[37m\u001b[0m \u001b[1m203s\u001b[0m 17ms/step - auc: 0.9265 - binary_accuracy: 0.8267 - loss: 0.1775 - precision: 0.6284 - recall: 0.9128 - val_auc: 0.9134 - val_binary_accuracy: 0.8488 - val_loss: 0.1182 - val_precision: 0.7322 - val_recall: 0.8374 - learning_rate: 5.0000e-04\n",
            "Epoch 14/60\n",
            "\u001b[1m12081/12082\u001b[0m \u001b[32m━━━━━━━━━━━━━━━━━━━\u001b[0m\u001b[37m━\u001b[0m \u001b[1m0s\u001b[0m 16ms/step - auc: 0.9275 - binary_accuracy: 0.8290 - loss: 0.1768 - precision: 0.6323 - recall: 0.9116\n",
            "Epoch 14: saving model to ../model/model4/checkpoints/14-0.13.keras\n",
            "\u001b[1m12082/12082\u001b[0m \u001b[32m━━━━━━━━━━━━━━━━━━━━\u001b[0m\u001b[37m\u001b[0m \u001b[1m260s\u001b[0m 17ms/step - auc: 0.9275 - binary_accuracy: 0.8290 - loss: 0.1768 - precision: 0.6323 - recall: 0.9116 - val_auc: 0.9080 - val_binary_accuracy: 0.8369 - val_loss: 0.1318 - val_precision: 0.7019 - val_recall: 0.8591 - learning_rate: 5.0000e-04\n",
            "Epoch 15/60\n",
            "\u001b[1m12082/12082\u001b[0m \u001b[32m━━━━━━━━━━━━━━━━━━━━\u001b[0m\u001b[37m\u001b[0m \u001b[1m0s\u001b[0m 16ms/step - auc: 0.9284 - binary_accuracy: 0.8305 - loss: 0.1756 - precision: 0.6346 - recall: 0.9121\n",
            "Epoch 15: saving model to ../model/model4/checkpoints/15-0.13.keras\n",
            "\n",
            "Epoch 15: ReduceLROnPlateau reducing learning rate to 0.0002500000118743628.\n",
            "\u001b[1m12082/12082\u001b[0m \u001b[32m━━━━━━━━━━━━━━━━━━━━\u001b[0m\u001b[37m\u001b[0m \u001b[1m202s\u001b[0m 17ms/step - auc: 0.9284 - binary_accuracy: 0.8305 - loss: 0.1756 - precision: 0.6346 - recall: 0.9121 - val_auc: 0.9103 - val_binary_accuracy: 0.8392 - val_loss: 0.1251 - val_precision: 0.7094 - val_recall: 0.8491 - learning_rate: 5.0000e-04\n",
            "Epoch 16/60\n",
            "\u001b[1m12079/12082\u001b[0m \u001b[32m━━━━━━━━━━━━━━━━━━━\u001b[0m\u001b[37m━\u001b[0m \u001b[1m0s\u001b[0m 16ms/step - auc: 0.9320 - binary_accuracy: 0.8354 - loss: 0.1681 - precision: 0.6419 - recall: 0.9147\n",
            "Epoch 16: saving model to ../model/model4/checkpoints/16-0.10.keras\n",
            "\u001b[1m12082/12082\u001b[0m \u001b[32m━━━━━━━━━━━━━━━━━━━━\u001b[0m\u001b[37m\u001b[0m \u001b[1m203s\u001b[0m 17ms/step - auc: 0.9320 - binary_accuracy: 0.8354 - loss: 0.1681 - precision: 0.6419 - recall: 0.9147 - val_auc: 0.9107 - val_binary_accuracy: 0.8543 - val_loss: 0.1047 - val_precision: 0.7896 - val_recall: 0.7472 - learning_rate: 2.5000e-04\n",
            "Epoch 17/60\n",
            "\u001b[1m12081/12082\u001b[0m \u001b[32m━━━━━━━━━━━━━━━━━━━\u001b[0m\u001b[37m━\u001b[0m \u001b[1m0s\u001b[0m 16ms/step - auc: 0.9343 - binary_accuracy: 0.8353 - loss: 0.1641 - precision: 0.6412 - recall: 0.9181\n",
            "Epoch 17: saving model to ../model/model4/checkpoints/17-0.11.keras\n",
            "\u001b[1m12082/12082\u001b[0m \u001b[32m━━━━━━━━━━━━━━━━━━━━\u001b[0m\u001b[37m\u001b[0m \u001b[1m262s\u001b[0m 17ms/step - auc: 0.9343 - binary_accuracy: 0.8353 - loss: 0.1641 - precision: 0.6412 - recall: 0.9181 - val_auc: 0.9080 - val_binary_accuracy: 0.8485 - val_loss: 0.1125 - val_precision: 0.7356 - val_recall: 0.8274 - learning_rate: 2.5000e-04\n",
            "Epoch 18/60\n",
            "\u001b[1m12081/12082\u001b[0m \u001b[32m━━━━━━━━━━━━━━━━━━━\u001b[0m\u001b[37m━\u001b[0m \u001b[1m0s\u001b[0m 16ms/step - auc: 0.9347 - binary_accuracy: 0.8375 - loss: 0.1631 - precision: 0.6449 - recall: 0.9170\n",
            "Epoch 18: saving model to ../model/model4/checkpoints/18-0.11.keras\n",
            "\u001b[1m12082/12082\u001b[0m \u001b[32m━━━━━━━━━━━━━━━━━━━━\u001b[0m\u001b[37m\u001b[0m \u001b[1m204s\u001b[0m 17ms/step - auc: 0.9347 - binary_accuracy: 0.8375 - loss: 0.1631 - precision: 0.6449 - recall: 0.9170 - val_auc: 0.9040 - val_binary_accuracy: 0.8493 - val_loss: 0.1096 - val_precision: 0.7564 - val_recall: 0.7857 - learning_rate: 2.5000e-04\n",
            "Epoch 19/60\n",
            "\u001b[1m12079/12082\u001b[0m \u001b[32m━━━━━━━━━━━━━━━━━━━\u001b[0m\u001b[37m━\u001b[0m \u001b[1m0s\u001b[0m 16ms/step - auc: 0.9361 - binary_accuracy: 0.8365 - loss: 0.1617 - precision: 0.6423 - recall: 0.9220\n",
            "Epoch 19: saving model to ../model/model4/checkpoints/19-0.12.keras\n",
            "\n",
            "Epoch 19: ReduceLROnPlateau reducing learning rate to 0.0001250000059371814.\n",
            "\u001b[1m12082/12082\u001b[0m \u001b[32m━━━━━━━━━━━━━━━━━━━━\u001b[0m\u001b[37m\u001b[0m \u001b[1m260s\u001b[0m 17ms/step - auc: 0.9361 - binary_accuracy: 0.8365 - loss: 0.1617 - precision: 0.6423 - recall: 0.9220 - val_auc: 0.9085 - val_binary_accuracy: 0.8391 - val_loss: 0.1165 - val_precision: 0.7087 - val_recall: 0.8507 - learning_rate: 2.5000e-04\n",
            "Epoch 20/60\n"
          ]
        }
      ]
    },
    {
      "cell_type": "code",
      "source": [
        "model.save(\"../model/model4/model.h5\")"
      ],
      "metadata": {
        "id": "yLtXjCEsYek1"
      },
      "id": "yLtXjCEsYek1",
      "execution_count": null,
      "outputs": []
    }
  ],
  "metadata": {
    "kernelspec": {
      "display_name": "Python 3",
      "language": "python",
      "name": "python3"
    },
    "language_info": {
      "codemirror_mode": {
        "name": "ipython",
        "version": 3
      },
      "file_extension": ".py",
      "mimetype": "text/x-python",
      "name": "python",
      "nbconvert_exporter": "python",
      "pygments_lexer": "ipython3",
      "version": "3.12.0"
    },
    "colab": {
      "provenance": [],
      "include_colab_link": true
    }
  },
  "nbformat": 4,
  "nbformat_minor": 5
}