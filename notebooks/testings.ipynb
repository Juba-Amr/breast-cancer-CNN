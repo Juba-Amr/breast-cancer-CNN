{
 "cells": [
  {
   "cell_type": "code",
   "execution_count": 2,
   "id": "973390c4",
   "metadata": {},
   "outputs": [],
   "source": [
    "import os\n",
    "import shutil\n",
    "\n",
    "src = '../data/raw/'\n",
    "dst = '../data/clean'\n",
    "\n",
    "os.makedirs(f'{dst}/0', exist_ok=True)\n",
    "os.makedirs(f'{dst}/1', exist_ok=True)\n",
    "\n",
    "for patient_dir in os.listdir(src):\n",
    "    patient_path = os.path.join(src, patient_dir)\n",
    "    if not os.path.isdir(patient_path): continue\n",
    "\n",
    "    for filename in os.listdir(patient_path):\n",
    "        if filename.endswith('.png'):\n",
    "            label = filename.split('_')[0]\n",
    "            src_file = os.path.join(patient_path, filename)\n",
    "            dst_file = os.path.join(dst, label, filename)\n",
    "            shutil.copy2(src_file, dst_file)"
   ]
  }
 ],
 "metadata": {
  "kernelspec": {
   "display_name": "Python 3",
   "language": "python",
   "name": "python3"
  },
  "language_info": {
   "codemirror_mode": {
    "name": "ipython",
    "version": 3
   },
   "file_extension": ".py",
   "mimetype": "text/x-python",
   "name": "python",
   "nbconvert_exporter": "python",
   "pygments_lexer": "ipython3",
   "version": "3.12.0"
  }
 },
 "nbformat": 4,
 "nbformat_minor": 5
}
